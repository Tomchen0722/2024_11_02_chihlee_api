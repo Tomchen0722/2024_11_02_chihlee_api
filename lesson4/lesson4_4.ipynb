{
 "cells": [
  {
   "cell_type": "code",
   "execution_count": null,
   "metadata": {},
   "outputs": [],
   "source": [
    "class Person(object):#繼承object  (父類別)\n",
    "    def __init__(self,name:str,age:int):#self可以省略\n",
    "        self.name = name #name,age (attribute)\n",
    "        self.age = age #name,age (attribute)\n",
    "    \n",
    "    #實體方法(instance method)\n",
    "    def echo(self):\n",
    "        print(f'我的姓名是:{self.name}')\n",
    "        print(f'我的年齡是:{self.age}')\n"
   ]
  },
  {
   "cell_type": "code",
   "execution_count": null,
   "metadata": {},
   "outputs": [],
   "source": [
    "class Student(Person):#（子類別) Student繼承->Person繼承->object \n",
    "    def __init__(self,name:str,age:int,score:int):\n",
    "            super().__init__(name=name,age=age) #super引用父類別\n",
    "            self.score = score\n",
    "    def echo(self):\n",
    "        super().echo()#super引用父類別\n",
    "        #print(f'我的姓名是:{self.name}')\n",
    "        #print(f'我的年齡是:{self.age}')\n",
    "        print(f'我的score是:{self.score}')          "
   ]
  },
  {
   "cell_type": "code",
   "execution_count": 9,
   "metadata": {},
   "outputs": [
    {
     "name": "stdout",
     "output_type": "stream",
     "text": [
      "我的姓名是:小名\n",
      "我的年齡是:12\n",
      "我的score是:250\n"
     ]
    }
   ],
   "source": [
    "s1:Student = Student('小名',age=12,score=250)\n",
    "s1.echo()"
   ]
  },
  {
   "cell_type": "code",
   "execution_count": 6,
   "metadata": {},
   "outputs": [
    {
     "name": "stdout",
     "output_type": "stream",
     "text": [
      "我的姓名是:小小\n",
      "我的年齡是:14\n"
     ]
    }
   ],
   "source": [
    "s2:Student = Student('小小',age=14)\n",
    "s2.echo()"
   ]
  }
 ],
 "metadata": {
  "kernelspec": {
   "display_name": "base",
   "language": "python",
   "name": "python3"
  },
  "language_info": {
   "codemirror_mode": {
    "name": "ipython",
    "version": 3
   },
   "file_extension": ".py",
   "mimetype": "text/x-python",
   "name": "python",
   "nbconvert_exporter": "python",
   "pygments_lexer": "ipython3",
   "version": "3.12.2"
  }
 },
 "nbformat": 4,
 "nbformat_minor": 2
}
