{
 "cells": [
  {
   "cell_type": "code",
   "execution_count": null,
   "metadata": {},
   "outputs": [],
   "source": [
    "while(True):\n",
    "    try:\n",
    "        name = input(\"姓名:\")\n",
    "        height = float(input(\"請輸入身高(公分):\"))\n",
    "        weight = float(input(\"請輸入體重(公斤):\"))\n",
    "        p1 = BMI(name=name,height=height,weight=weight)   \n",
    "        break\n",
    "    except Exception:\n",
    "        print('輸入格式錯誤,請重新輸入!')\n",
    "    \n",
    "print(f\"您的BMI值是{p1.get_BMI()}\\n您的體重{p1.get_status()}\")\n",
    "print(\"程式結束\")"
   ]
  }
 ],
 "metadata": {
  "kernelspec": {
   "display_name": "base",
   "language": "python",
   "name": "python3"
  },
  "language_info": {
   "name": "python",
   "version": "3.12.4"
  }
 },
 "nbformat": 4,
 "nbformat_minor": 2
}
