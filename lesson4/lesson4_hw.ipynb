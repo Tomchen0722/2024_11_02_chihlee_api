{
 "cells": [
  {
   "cell_type": "code",
   "execution_count": 2,
   "metadata": {},
   "outputs": [
    {
     "name": "stdout",
     "output_type": "stream",
     "text": [
      "姓名 :ttt\n",
      "體重:170.0\n",
      "身高:90.0\n",
      "您的姓名是ttt\n",
      "您的BMI值是31.14\n",
      "您的體重是90.0\n",
      "您的BMI狀態是\n",
      "異常範圍(中度肥胖)\n",
      "程式結束\n"
     ]
    }
   ],
   "source": [
    "class BMI():\n",
    "    def __init__(self,name:str,height:float,weight:float):\n",
    "        self.name = name \n",
    "        self.height = height\n",
    "        self.weight = weight\n",
    "    \n",
    "    #實體方法(instance method)\n",
    "    def get_BMI(self)->float:\n",
    "        bmi_out = round(self.weight /((self.height / 100) ** 2),2)\n",
    "        return bmi_out\n",
    "    \n",
    "    def get_status(self)->str:\n",
    "        bmi = self.get_BMI()\n",
    "        a = name\n",
    "        b = height\n",
    "        c = weight\n",
    "        print(f\"姓名 :{a}\\n體重:{b}\\n身高:{c}\")\n",
    "        if bmi >= 35 or bmi >= 24 or bmi < 18.5:\n",
    "            over_status = \"\\n異常範圍\"\n",
    "            \n",
    "            if bmi >= 35 :\n",
    "                o_status = over_status +\"(重度肥胖)\"\n",
    "                return o_status\n",
    "            elif bmi >= 30 :\n",
    "                o_status = over_status +\"(中度肥胖)\"\n",
    "                return o_status\n",
    "            elif bmi >= 27 :\n",
    "                o_status = over_status +\"(輕度肥胖)\"\n",
    "                return o_status\n",
    "            elif bmi >= 24 :\n",
    "                o_status = over_status +\"(過重)\"\n",
    "                return o_status\n",
    "            elif bmi < 18.5:\n",
    "                o_status = over_status +\"(體重過輕)\"\n",
    "                return o_status \n",
    "        elif bmi >=18.5 and bmi < 24:\n",
    "            o_status = \"正常範圍\"\n",
    "            return o_status\n",
    "        \n",
    "        \n",
    "while(True):\n",
    "    try:\n",
    "        name = input(\"姓名:\")\n",
    "        height = float(input(\"請輸入身高(公分):\"))\n",
    "        weight = float(input(\"請輸入體重(公斤):\"))\n",
    "        p1 = BMI(name=name,height=height,weight=weight)   \n",
    "        break\n",
    "    except Exception:\n",
    "        print('輸入格式錯誤,請重新輸入!')\n",
    "    \n",
    "print(f\"您的姓名是{p1.name}\\n您的BMI值是{p1.get_BMI()}\\n您的體重是{p1.weight}\\n您的BMI狀態是{p1.get_status()}\")\n",
    "print(\"程式結束\")"
   ]
  }
 ],
 "metadata": {
  "kernelspec": {
   "display_name": "base",
   "language": "python",
   "name": "python3"
  },
  "language_info": {
   "codemirror_mode": {
    "name": "ipython",
    "version": 3
   },
   "file_extension": ".py",
   "mimetype": "text/x-python",
   "name": "python",
   "nbconvert_exporter": "python",
   "pygments_lexer": "ipython3",
   "version": "3.12.2"
  }
 },
 "nbformat": 4,
 "nbformat_minor": 2
}
