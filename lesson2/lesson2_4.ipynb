{
 "cells": [
  {
   "cell_type": "code",
   "execution_count": 2,
   "metadata": {},
   "outputs": [
    {
     "name": "stdout",
     "output_type": "stream",
     "text": [
      "輸入格式錯誤\n"
     ]
    },
    {
     "ename": "NameError",
     "evalue": "name 'height' is not defined",
     "output_type": "error",
     "traceback": [
      "\u001b[1;31m---------------------------------------------------------------------------\u001b[0m",
      "\u001b[1;31mNameError\u001b[0m                                 Traceback (most recent call last)",
      "Cell \u001b[1;32mIn[2], line 26\u001b[0m\n\u001b[0;32m     22\u001b[0m     \u001b[38;5;28;01melif\u001b[39;00m bmi \u001b[38;5;241m>\u001b[39m\u001b[38;5;241m=\u001b[39m\u001b[38;5;241m18.5\u001b[39m \u001b[38;5;129;01mand\u001b[39;00m bmi \u001b[38;5;241m<\u001b[39m \u001b[38;5;241m24\u001b[39m:\n\u001b[0;32m     23\u001b[0m         \u001b[38;5;28mprint\u001b[39m(\u001b[38;5;124m\"\u001b[39m\u001b[38;5;124m正常範圍\u001b[39m\u001b[38;5;124m\"\u001b[39m)  \n\u001b[1;32m---> 26\u001b[0m \u001b[38;5;28mprint\u001b[39m(\u001b[38;5;124mf\u001b[39m\u001b[38;5;124m\"\u001b[39m\u001b[38;5;124m請輸入身高（公分):\u001b[39m\u001b[38;5;132;01m{\u001b[39;00m\u001b[43mheight\u001b[49m\u001b[38;5;132;01m}\u001b[39;00m\u001b[38;5;124m公分\u001b[39m\u001b[38;5;124m\"\u001b[39m)\n\u001b[0;32m     27\u001b[0m \u001b[38;5;28mprint\u001b[39m(\u001b[38;5;124mf\u001b[39m\u001b[38;5;124m\"\u001b[39m\u001b[38;5;124m請輸入體重（公斤):\u001b[39m\u001b[38;5;132;01m{\u001b[39;00mweight\u001b[38;5;132;01m}\u001b[39;00m\u001b[38;5;124m公斤\u001b[39m\u001b[38;5;124m\"\u001b[39m)   \n\u001b[0;32m     28\u001b[0m \u001b[38;5;28mprint\u001b[39m(\u001b[38;5;124mf\u001b[39m\u001b[38;5;124m\"\u001b[39m\u001b[38;5;124m您的BMI是:\u001b[39m\u001b[38;5;132;01m{\u001b[39;00mbmi\u001b[38;5;132;01m}\u001b[39;00m\u001b[38;5;124m\"\u001b[39m)\n",
      "\u001b[1;31mNameError\u001b[0m: name 'height' is not defined"
     ]
    }
   ],
   "source": [
    "try: \n",
    "    height = int(input(\"請輸入身高（公分):\"))\n",
    "    weight = int(input(\"請輸入體重（公斤):\"))\n",
    "except Exception:\n",
    "    print('輸入格式錯誤')\n",
    "else:\n",
    "    bmi = weight / (height / 100) ** 2\n",
    "    \n",
    "    if bmi >= 35 or bmi >= 24 or bmi < 18.5:\n",
    "        print(\"異常範圍\")\n",
    "        if bmi >= 35 :\n",
    "            print(\"重度肥胖\")\n",
    "        elif bmi >= 30 and bmi < 35:\n",
    "            print(\"中度肥胖\")\n",
    "        elif bmi >= 27 and bmi < 30:\n",
    "            print(\"中度肥胖\")\n",
    "        elif bmi >= 24 and bmi < 27:\n",
    "            print(\"過重\")\n",
    "        elif bmi < 18.5:\n",
    "            print(\"體重過輕\") \n",
    " \n",
    "    elif bmi >=18.5 and bmi < 24:\n",
    "        print(\"正常範圍\")  \n",
    "    \n",
    "\n",
    "print(f\"請輸入身高（公分):{height}公分\")\n",
    "print(f\"請輸入體重（公斤):{weight}公斤\")   \n",
    "print(f\"您的BMI是:{bmi}\")\n",
    "print(f\"您的體重是:{weight}公斤\")"
   ]
  }
 ],
 "metadata": {
  "kernelspec": {
   "display_name": "base",
   "language": "python",
   "name": "python3"
  },
  "language_info": {
   "codemirror_mode": {
    "name": "ipython",
    "version": 3
   },
   "file_extension": ".py",
   "mimetype": "text/x-python",
   "name": "python",
   "nbconvert_exporter": "python",
   "pygments_lexer": "ipython3",
   "version": "3.12.3"
  }
 },
 "nbformat": 4,
 "nbformat_minor": 2
}
