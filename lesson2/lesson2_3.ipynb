{
 "cells": [
  {
   "cell_type": "code",
   "execution_count": 2,
   "metadata": {},
   "outputs": [
    {
     "name": "stdout",
     "output_type": "stream",
     "text": [
      "學生分數是:262.5分\n",
      "學生分數是:262.5分\n",
      "應用程式錯誤\n"
     ]
    }
   ],
   "source": [
    "#學生總分為300\n",
    "#有些學生可以加分5%\n",
    "#如果加分超過300,就以300分為準\n",
    "try: \n",
    "    #正確的寫法\n",
    "    scores = int(input(\"請輸入學生分數(最高分300分):\"))\n",
    "    \n",
    "except Exception:#代表任何的錯誤,一定要放在最後\n",
    "    print('發生錯誤')\n",
    "else:\n",
    "    is_add = input(\"學生是否符合加分條件?(y,n)\")\n",
    "    \n",
    "    if is_add == 'y':\n",
    "        scores = scores * 1.05\n",
    "        if scores > 300 :\n",
    "            scores = 300\n",
    "        \n",
    "    print(\"學生分數是:\" + str(scores) + \"分\")\n",
    "    print(f\"學生分數是:{scores}分\")\n",
    "\n",
    "    \n",
    "print('應用程式錯誤')"
   ]
  },
  {
   "cell_type": "code",
   "execution_count": null,
   "metadata": {},
   "outputs": [],
   "source": [
    "\n",
    "scores = int(input(\"請輸入學生分數:\"))\n",
    "    \n",
    "if scores >= 90:\n",
    "    print(\"特優\")\n",
    "else:\n",
    "    if scores >= 60 :\n",
    "        print(\"及格\")\n",
    "    else:\n",
    "        print(\"不及格\")\n",
    "           \n",
    "    \n",
    "    print(\"學生分數是:\" + str(scores) + \"分\")\n",
    "    print(f\"學生分數是:{scores}分\")"
   ]
  },
  {
   "cell_type": "code",
   "execution_count": null,
   "metadata": {},
   "outputs": [
    {
     "name": "stdout",
     "output_type": "stream",
     "text": [
      "不及格\n"
     ]
    }
   ],
   "source": [
    "#多項選擇\n",
    "scores = int(input(\"請輸入學生分數:\"))\n",
    "    \n",
    "if scores >= 90:\n",
    "    print(\"特優\")\n",
    "    \n",
    "elif scores >= 60 :\n",
    "    print(\"及格\")\n",
    "else:\n",
    "    print(\"不及格\")"
   ]
  },
  {
   "cell_type": "markdown",
   "metadata": {},
   "source": [
    "- 90(含)~100分為[優]\n",
    "- 80(含)~89分為[甲]\n",
    "- 70(含)~79分為[乙]\n",
    "- 60(含)~69分為[丙]\n",
    "- 0(含)~59分為[丁]\n"
   ]
  },
  {
   "cell_type": "code",
   "execution_count": 19,
   "metadata": {},
   "outputs": [
    {
     "name": "stdout",
     "output_type": "stream",
     "text": [
      "丁\n"
     ]
    }
   ],
   "source": [
    "scores = int(input(\"請輸入學生分數:\"))\n",
    "if scores >= 90:\n",
    "    print(\"優\")\n",
    "elif scores >= 80:\n",
    "    print(\"甲\")\n",
    "elif scores >= 70:\n",
    "    print(\"乙\")\n",
    "elif scores >= 60:\n",
    "    print(\"丙\")\n",
    "else:\n",
    "    print(\"丁\")"
   ]
  },
  {
   "cell_type": "code",
   "execution_count": null,
   "metadata": {},
   "outputs": [
    {
     "name": "stdout",
     "output_type": "stream",
     "text": [
      "中度肥胖\n",
      "請輸入身高（公分):170公分\n",
      "請輸入體重（公斤):100公斤\n",
      "您的BMI是:34.602076124567475\n",
      "您的體重是:100公斤\n"
     ]
    }
   ],
   "source": [
    "try: \n",
    "    height = int(input(\"請輸入身高（公分):\"))\n",
    "    weight = int(input(\"請輸入體重（公斤):\"))\n",
    "except Exception:\n",
    "    print('輸入格式錯誤')\n",
    "else:\n",
    "    bmi = weight / (height / 100) ** 2\n",
    "    \n",
    "\n",
    "    if bmi >= 35 :\n",
    "        print(\"重度肥胖\")\n",
    "    elif bmi >= 30 and bmi < 35:\n",
    "        print(\"中度肥胖\")\n",
    "    elif bmi >= 27 and bmi < 30:\n",
    "        print(\"輕度肥胖\")\n",
    "    elif bmi >= 24 and bmi < 27:\n",
    "        print(\"過重\")\n",
    "        \n",
    "    elif bmi >=18.5 and bmi < 24:\n",
    "        print(\"正常範圍\")  \n",
    "    else:\n",
    "        print(\"體重過輕\")      \n",
    "\n",
    "print(f\"請輸入身高（公分):{height}公分\")\n",
    "print(f\"請輸入體重（公斤):{weight}公斤\")   \n",
    "print(f\"您的BMI是:{bmi}\")\n",
    "print(f\"您的體重是:{weight}公斤\")\n",
    "     "
   ]
  },
  {
   "cell_type": "code",
   "execution_count": 24,
   "metadata": {},
   "outputs": [
    {
     "name": "stdout",
     "output_type": "stream",
     "text": [
      "獎金:0元\n"
     ]
    }
   ],
   "source": [
    "#巢狀判斷\n",
    "#國文100分,同時數學100分,獎金1000\n",
    "#國文100分,或者數學100分,獎金500\n",
    "#不然0\n",
    "\n",
    "chinese = int(input(\"請輸入國文分數\"))\n",
    "math = int(input(\"請輸入數學分數\"))\n",
    "\n",
    "if chinese == 100:\n",
    "    if math == 100:\n",
    "        bonus = 1000\n",
    "    else:\n",
    "        bonus = 500\n",
    "elif math == 100:\n",
    "    bonus = 500\n",
    "else:\n",
    "    bonus = 0\n",
    "    \n",
    "print(f\"獎金:{bonus}元\")"
   ]
  },
  {
   "cell_type": "markdown",
   "metadata": {},
   "source": []
  },
  {
   "cell_type": "code",
   "execution_count": null,
   "metadata": {},
   "outputs": [
    {
     "name": "stdout",
     "output_type": "stream",
     "text": [
      "獎金:500元\n"
     ]
    }
   ],
   "source": [
    "#巢狀判斷 (邏輯運算子 and or)\n",
    "#國文100分,同時數學100分,獎金1000\n",
    "#國文100分,或者數學100分,獎金500\n",
    "#不然0\n",
    "\n",
    "chinese = int(input(\"請輸入國文分數\"))\n",
    "math = int(input(\"請輸入數學分數\"))\n",
    "\n",
    "if chinese == 100 and math == 100:\n",
    "    bonus = 1000\n",
    "elif chinese == 100 or math == 100:\n",
    "    bonus = 500\n",
    "else:\n",
    "    bonus = 0\n",
    "\n",
    "print(f\"獎金:{bonus}元\")   \n"
   ]
  }
 ],
 "metadata": {
  "kernelspec": {
   "display_name": "base",
   "language": "python",
   "name": "python3"
  },
  "language_info": {
   "codemirror_mode": {
    "name": "ipython",
    "version": 3
   },
   "file_extension": ".py",
   "mimetype": "text/x-python",
   "name": "python",
   "nbconvert_exporter": "python",
   "pygments_lexer": "ipython3",
   "version": "3.12.2"
  }
 },
 "nbformat": 4,
 "nbformat_minor": 2
}
