<<<<<<< HEAD
{
 "cells": [
  {
   "cell_type": "code",
   "execution_count": 3,
   "metadata": {},
   "outputs": [
    {
     "ename": "ImportError",
     "evalue": "cannot import name 'Dash' from partially initialized module 'dash' (most likely due to a circular import) (/opt/conda/lib/python3.12/site-packages/dash/__init__.py)",
     "output_type": "error",
     "traceback": [
      "\u001b[0;31m---------------------------------------------------------------------------\u001b[0m",
      "\u001b[0;31mImportError\u001b[0m                               Traceback (most recent call last)",
      "Cell \u001b[0;32mIn[3], line 2\u001b[0m\n\u001b[1;32m      1\u001b[0m \u001b[38;5;66;03m## 導入dash所需的套件\u001b[39;00m\n\u001b[0;32m----> 2\u001b[0m \u001b[38;5;28;01mimport\u001b[39;00m \u001b[38;5;21;01mdash\u001b[39;00m\n\u001b[1;32m      4\u001b[0m \u001b[38;5;28;01mimport\u001b[39;00m \u001b[38;5;21;01mdash_core_components\u001b[39;00m \u001b[38;5;28;01mas\u001b[39;00m \u001b[38;5;21;01mdcc\u001b[39;00m\n\u001b[1;32m      5\u001b[0m \u001b[38;5;28;01mimport\u001b[39;00m \u001b[38;5;21;01mdash_core_components\u001b[39;00m \u001b[38;5;28;01mas\u001b[39;00m \u001b[38;5;21;01mdcc\u001b[39;00m\n",
      "File \u001b[0;32m/opt/conda/lib/python3.12/site-packages/dash/__init__.py:5\u001b[0m\n\u001b[1;32m      1\u001b[0m \u001b[38;5;66;03m# pylint: disable=C0413\u001b[39;00m\n\u001b[1;32m      2\u001b[0m \u001b[38;5;66;03m# __plotly_dash is for the \"make sure you don't have a dash.py\" check\u001b[39;00m\n\u001b[1;32m      3\u001b[0m \u001b[38;5;66;03m# must come before any other imports.\u001b[39;00m\n\u001b[1;32m      4\u001b[0m __plotly_dash \u001b[38;5;241m=\u001b[39m \u001b[38;5;28;01mTrue\u001b[39;00m\n\u001b[0;32m----> 5\u001b[0m \u001b[38;5;28;01mfrom\u001b[39;00m \u001b[38;5;21;01m.\u001b[39;00m\u001b[38;5;21;01mdependencies\u001b[39;00m \u001b[38;5;28;01mimport\u001b[39;00m (  \u001b[38;5;66;03m# noqa: F401,E402\u001b[39;00m\n\u001b[1;32m      6\u001b[0m     Input,  \u001b[38;5;66;03m# noqa: F401,E402\u001b[39;00m\n\u001b[1;32m      7\u001b[0m     Output,  \u001b[38;5;66;03m# noqa: F401,E402,\u001b[39;00m\n\u001b[1;32m      8\u001b[0m     State,  \u001b[38;5;66;03m# noqa: F401,E402\u001b[39;00m\n\u001b[1;32m      9\u001b[0m     ClientsideFunction,  \u001b[38;5;66;03m# noqa: F401,E402\u001b[39;00m\n\u001b[1;32m     10\u001b[0m     MATCH,  \u001b[38;5;66;03m# noqa: F401,E402\u001b[39;00m\n\u001b[1;32m     11\u001b[0m     ALL,  \u001b[38;5;66;03m# noqa: F401,E402\u001b[39;00m\n\u001b[1;32m     12\u001b[0m     ALLSMALLER,  \u001b[38;5;66;03m# noqa: F401,E402\u001b[39;00m\n\u001b[1;32m     13\u001b[0m )  \u001b[38;5;66;03m# noqa: F401,E402\u001b[39;00m\n\u001b[1;32m     14\u001b[0m \u001b[38;5;28;01mfrom\u001b[39;00m \u001b[38;5;21;01m.\u001b[39;00m \u001b[38;5;28;01mimport\u001b[39;00m development  \u001b[38;5;66;03m# noqa: F401,E402\u001b[39;00m\n\u001b[1;32m     15\u001b[0m \u001b[38;5;28;01mfrom\u001b[39;00m \u001b[38;5;21;01m.\u001b[39;00m \u001b[38;5;28;01mimport\u001b[39;00m exceptions  \u001b[38;5;66;03m# noqa: F401,E402\u001b[39;00m\n",
      "File \u001b[0;32m/opt/conda/lib/python3.12/site-packages/dash/dependencies.py:3\u001b[0m\n\u001b[1;32m      1\u001b[0m \u001b[38;5;28;01mfrom\u001b[39;00m \u001b[38;5;21;01mdash\u001b[39;00m\u001b[38;5;21;01m.\u001b[39;00m\u001b[38;5;21;01mdevelopment\u001b[39;00m\u001b[38;5;21;01m.\u001b[39;00m\u001b[38;5;21;01mbase_component\u001b[39;00m \u001b[38;5;28;01mimport\u001b[39;00m Component\n\u001b[0;32m----> 3\u001b[0m \u001b[38;5;28;01mfrom\u001b[39;00m \u001b[38;5;21;01m.\u001b[39;00m\u001b[38;5;21;01m_validate\u001b[39;00m \u001b[38;5;28;01mimport\u001b[39;00m validate_callback\n\u001b[1;32m      4\u001b[0m \u001b[38;5;28;01mfrom\u001b[39;00m \u001b[38;5;21;01m.\u001b[39;00m\u001b[38;5;21;01m_grouping\u001b[39;00m \u001b[38;5;28;01mimport\u001b[39;00m flatten_grouping, make_grouping_by_index\n\u001b[1;32m      5\u001b[0m \u001b[38;5;28;01mfrom\u001b[39;00m \u001b[38;5;21;01m.\u001b[39;00m\u001b[38;5;21;01m_utils\u001b[39;00m \u001b[38;5;28;01mimport\u001b[39;00m stringify_id\n",
      "File \u001b[0;32m/opt/conda/lib/python3.12/site-packages/dash/_validate.py:6\u001b[0m\n\u001b[1;32m      4\u001b[0m \u001b[38;5;28;01mfrom\u001b[39;00m \u001b[38;5;21;01mtextwrap\u001b[39;00m \u001b[38;5;28;01mimport\u001b[39;00m dedent\n\u001b[1;32m      5\u001b[0m \u001b[38;5;28;01mfrom\u001b[39;00m \u001b[38;5;21;01mkeyword\u001b[39;00m \u001b[38;5;28;01mimport\u001b[39;00m iskeyword\n\u001b[0;32m----> 6\u001b[0m \u001b[38;5;28;01mimport\u001b[39;00m \u001b[38;5;21;01mflask\u001b[39;00m\n\u001b[1;32m      8\u001b[0m \u001b[38;5;28;01mfrom\u001b[39;00m \u001b[38;5;21;01m.\u001b[39;00m\u001b[38;5;21;01m_grouping\u001b[39;00m \u001b[38;5;28;01mimport\u001b[39;00m grouping_len, map_grouping\n\u001b[1;32m      9\u001b[0m \u001b[38;5;28;01mfrom\u001b[39;00m \u001b[38;5;21;01m.\u001b[39;00m\u001b[38;5;21;01mdevelopment\u001b[39;00m\u001b[38;5;21;01m.\u001b[39;00m\u001b[38;5;21;01mbase_component\u001b[39;00m \u001b[38;5;28;01mimport\u001b[39;00m Component\n",
      "File \u001b[0;32m/opt/conda/lib/python3.12/site-packages/flask/__init__.py:6\u001b[0m\n\u001b[1;32m      3\u001b[0m \u001b[38;5;28;01mimport\u001b[39;00m \u001b[38;5;21;01mtyping\u001b[39;00m \u001b[38;5;28;01mas\u001b[39;00m \u001b[38;5;21;01mt\u001b[39;00m\n\u001b[1;32m      5\u001b[0m \u001b[38;5;28;01mfrom\u001b[39;00m \u001b[38;5;21;01m.\u001b[39;00m \u001b[38;5;28;01mimport\u001b[39;00m json \u001b[38;5;28;01mas\u001b[39;00m json\n\u001b[0;32m----> 6\u001b[0m \u001b[38;5;28;01mfrom\u001b[39;00m \u001b[38;5;21;01m.\u001b[39;00m\u001b[38;5;21;01mapp\u001b[39;00m \u001b[38;5;28;01mimport\u001b[39;00m Flask \u001b[38;5;28;01mas\u001b[39;00m Flask\n\u001b[1;32m      7\u001b[0m \u001b[38;5;28;01mfrom\u001b[39;00m \u001b[38;5;21;01m.\u001b[39;00m\u001b[38;5;21;01mblueprints\u001b[39;00m \u001b[38;5;28;01mimport\u001b[39;00m Blueprint \u001b[38;5;28;01mas\u001b[39;00m Blueprint\n\u001b[1;32m      8\u001b[0m \u001b[38;5;28;01mfrom\u001b[39;00m \u001b[38;5;21;01m.\u001b[39;00m\u001b[38;5;21;01mconfig\u001b[39;00m \u001b[38;5;28;01mimport\u001b[39;00m Config \u001b[38;5;28;01mas\u001b[39;00m Config\n",
      "File \u001b[0;32m/opt/conda/lib/python3.12/site-packages/flask/app.py:14\u001b[0m\n\u001b[1;32m     11\u001b[0m \u001b[38;5;28;01mfrom\u001b[39;00m \u001b[38;5;21;01mtypes\u001b[39;00m \u001b[38;5;28;01mimport\u001b[39;00m TracebackType\n\u001b[1;32m     12\u001b[0m \u001b[38;5;28;01mfrom\u001b[39;00m \u001b[38;5;21;01murllib\u001b[39;00m\u001b[38;5;21;01m.\u001b[39;00m\u001b[38;5;21;01mparse\u001b[39;00m \u001b[38;5;28;01mimport\u001b[39;00m quote \u001b[38;5;28;01mas\u001b[39;00m _url_quote\n\u001b[0;32m---> 14\u001b[0m \u001b[38;5;28;01mimport\u001b[39;00m \u001b[38;5;21;01mclick\u001b[39;00m\n\u001b[1;32m     15\u001b[0m \u001b[38;5;28;01mfrom\u001b[39;00m \u001b[38;5;21;01mwerkzeug\u001b[39;00m\u001b[38;5;21;01m.\u001b[39;00m\u001b[38;5;21;01mdatastructures\u001b[39;00m \u001b[38;5;28;01mimport\u001b[39;00m Headers\n\u001b[1;32m     16\u001b[0m \u001b[38;5;28;01mfrom\u001b[39;00m \u001b[38;5;21;01mwerkzeug\u001b[39;00m\u001b[38;5;21;01m.\u001b[39;00m\u001b[38;5;21;01mdatastructures\u001b[39;00m \u001b[38;5;28;01mimport\u001b[39;00m ImmutableDict\n",
      "File \u001b[0;32m/workspaces/2024_11_02_chihlee_api/dash_table/click.py:1\u001b[0m\n\u001b[0;32m----> 1\u001b[0m \u001b[38;5;28;01mfrom\u001b[39;00m \u001b[38;5;21;01mdash\u001b[39;00m \u001b[38;5;28;01mimport\u001b[39;00m Dash, Input, Output, callback, dash_table\n\u001b[1;32m      2\u001b[0m \u001b[38;5;28;01mimport\u001b[39;00m \u001b[38;5;21;01mpandas\u001b[39;00m \u001b[38;5;28;01mas\u001b[39;00m \u001b[38;5;21;01mpd\u001b[39;00m\n\u001b[1;32m      3\u001b[0m \u001b[38;5;28;01mimport\u001b[39;00m \u001b[38;5;21;01mdash_bootstrap_components\u001b[39;00m \u001b[38;5;28;01mas\u001b[39;00m \u001b[38;5;21;01mdbc\u001b[39;00m\n",
      "\u001b[0;31mImportError\u001b[0m: cannot import name 'Dash' from partially initialized module 'dash' (most likely due to a circular import) (/opt/conda/lib/python3.12/site-packages/dash/__init__.py)"
     ]
    }
   ],
   "source": [
    "## 導入dash所需的套件\n",
    "import dash\n",
    "\n",
    "import dash_core_components as dcc\n",
    "import dash_core_components as dcc\n",
    "import dash_html_components as html\n",
    "\n",
    "## 啟動dash\n",
    "app = dash.Dash()\n",
    "\n",
    "## 設定網頁介面\n",
    "app.layout = html.Div([\n",
    "    \n",
    "    ## 把要遷入於HTML中的內容寫在這\n",
    "    \n",
    "   ## 功能操作 \n",
    "   ## 繪圖\n",
    "    dcc.Graph(\n",
    "    \n",
    "    )\n",
    "    \n",
    "])\n",
    "\n",
    "\n",
    "## 啟動Local Server\n",
    "if __name__ == '__main__':\n",
    "    ## port: 設定開出來的網路窗口，通常會有預設的，可以透過help()查看\n",
    "    ## debug = True: 打開所有開發工具\n",
    "    app.run_server(port = 5000, debug = False)"
   ]
  }
 ],
 "metadata": {
  "kernelspec": {
   "display_name": "base",
   "language": "python",
   "name": "python3"
  },
  "language_info": {
   "codemirror_mode": {
    "name": "ipython",
    "version": 3
   },
   "file_extension": ".py",
   "mimetype": "text/x-python",
   "name": "python",
   "nbconvert_exporter": "python",
   "pygments_lexer": "ipython3",
   "version": "3.12.2"
  }
 },
 "nbformat": 4,
 "nbformat_minor": 2
}
=======
{
 "cells": [
  {
   "cell_type": "code",
   "execution_count": null,
   "metadata": {},
   "outputs": [],
   "source": [
    "## 導入dash所需的套件\n",
    "import dash\n",
    "import dash\n",
    "import dash_core_components as dcc\n",
    "import dash_html_components as html\n",
    "\n",
    "## 啟動dash\n",
    "app = dash.Dash()\n",
    "\n",
    "## 設定網頁介面\n",
    "app.layout = html.Div([\n",
    "    \n",
    "    ## 把要遷入於HTML中的內容寫在這\n",
    "    \n",
    "   ## 功能操作 \n",
    "   ## 繪圖\n",
    "    dcc.Graph(\n",
    "    \n",
    "    )\n",
    "    \n",
    "])\n",
    "\n",
    "\n",
    "## 啟動Local Server\n",
    "if __name__ == '__main__':\n",
    "    ## port: 設定開出來的網路窗口，通常會有預設的，可以透過help()查看\n",
    "    ## debug = True: 打開所有開發工具\n",
    "    app.run_server(port = 5000, debug = False)"
   ]
  }
 ],
 "metadata": {
  "kernelspec": {
   "display_name": "base",
   "language": "python",
   "name": "python3"
  },
  "language_info": {
   "codemirror_mode": {
    "name": "ipython",
    "version": 3
   },
   "file_extension": ".py",
   "mimetype": "text/x-python",
   "name": "python",
   "nbconvert_exporter": "python",
   "pygments_lexer": "ipython3",
   "version": "3.12.2"
  }
 },
 "nbformat": 4,
 "nbformat_minor": 2
}
>>>>>>> f7b0b303c87be0dd81a6a843946821741c9d690c
