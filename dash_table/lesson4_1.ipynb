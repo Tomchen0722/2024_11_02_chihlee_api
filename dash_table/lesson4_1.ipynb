{
 "cells": [
  {
   "cell_type": "code",
   "execution_count": null,
   "metadata": {},
   "outputs": [],
   "source": [
    "## 導入dash所需的套件\n",
    "import dash\n",
    "import dash\n",
    "import dash_core_components as dcc\n",
    "import dash_html_components as html\n",
    "\n",
    "## 啟動dash\n",
    "app = dash.Dash()\n",
    "\n",
    "## 設定網頁介面\n",
    "app.layout = html.Div([\n",
    "    \n",
    "    ## 把要遷入於HTML中的內容寫在這\n",
    "    \n",
    "   ## 功能操作 \n",
    "   ## 繪圖\n",
    "    dcc.Graph(\n",
    "    \n",
    "    )\n",
    "    \n",
    "])\n",
    "\n",
    "\n",
    "## 啟動Local Server\n",
    "if __name__ == '__main__':\n",
    "    ## port: 設定開出來的網路窗口，通常會有預設的，可以透過help()查看\n",
    "    ## debug = True: 打開所有開發工具\n",
    "    app.run_server(port = 5000, debug = False)"
   ]
  }
 ],
 "metadata": {
  "kernelspec": {
   "display_name": "base",
   "language": "python",
   "name": "python3"
  },
  "language_info": {
   "codemirror_mode": {
    "name": "ipython",
    "version": 3
   },
   "file_extension": ".py",
   "mimetype": "text/x-python",
   "name": "python",
   "nbconvert_exporter": "python",
   "pygments_lexer": "ipython3",
   "version": "3.12.2"
  }
 },
 "nbformat": 4,
 "nbformat_minor": 2
}
