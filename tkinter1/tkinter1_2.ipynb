{
 "cells": [
  {
   "cell_type": "code",
   "execution_count": 1,
   "metadata": {},
   "outputs": [],
   "source": [
    "import tkinter as tk\n",
    "\n",
    "root = tk.Tk()\n",
    "root.title('oxxo.studio')\n",
    "root.geometry('200x200')\n",
    "\n",
    "mylabel = tk.Label(root,\n",
    "                  text='hello world\\n大家好',\n",
    "                  font=('Arial',20,'bold'),\n",
    "                  fg='#f00')\n",
    "mylabel.pack()\n",
    "\n",
    "root.mainloop()"
   ]
  },
  {
   "cell_type": "code",
   "execution_count": 2,
   "metadata": {},
   "outputs": [],
   "source": [
    "import tkinter as tk\n",
    "\n",
    "root = tk.Tk()\n",
    "root.title('oxxo.studio')\n",
    "root.geometry('200x200')\n",
    "\n",
    "mylabel = tk.Label(root,\n",
    "                  text='hello world\\n大家好',\n",
    "                  font=('Arial',20,'bold'),\n",
    "                  fg='#f00',\n",
    "                  bitmap='info',\n",
    "                  compound='left')\n",
    "mylabel.pack()\n",
    "\n",
    "root.mainloop()"
   ]
  },
  {
   "cell_type": "code",
   "execution_count": 3,
   "metadata": {},
   "outputs": [],
   "source": [
    "import tkinter as tk\n",
    "\n",
    "root = tk.Tk()\n",
    "root.title('oxxo.studio')\n",
    "root.geometry('200x200')\n",
    "\n",
    "mylabel = tk.Label(root,\n",
    "                  text='hello world\\n大家好',\n",
    "                  font=('Arial',20,'bold'),\n",
    "                  fg='#fff',\n",
    "                  bg='#f50',\n",
    "                  relief='groove',\n",
    "                  pady=20,\n",
    "                  padx=20)\n",
    "mylabel.pack()\n",
    "\n",
    "root.mainloop()"
   ]
  }
 ],
 "metadata": {
  "kernelspec": {
   "display_name": "base",
   "language": "python",
   "name": "python3"
  },
  "language_info": {
   "codemirror_mode": {
    "name": "ipython",
    "version": 3
   },
   "file_extension": ".py",
   "mimetype": "text/x-python",
   "name": "python",
   "nbconvert_exporter": "python",
   "pygments_lexer": "ipython3",
   "version": "3.12.2"
  }
 },
 "nbformat": 4,
 "nbformat_minor": 2
}
