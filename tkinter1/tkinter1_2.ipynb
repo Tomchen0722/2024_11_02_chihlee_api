{
 "cells": [
  {
   "cell_type": "code",
   "execution_count": 1,
   "metadata": {},
   "outputs": [],
   "source": [
    "import tkinter as tk\n",
    "\n",
    "root = tk.Tk()\n",
    "root.title('oxxo.studio')\n",
    "root.geometry('200x200')\n",
    "\n",
    "mylabel = tk.Label(root,\n",
    "                  text='hello world\\n大家好',\n",
    "                  font=('Arial',20,'bold'),\n",
    "                  fg='#f00')\n",
    "mylabel.pack()\n",
    "\n",
    "root.mainloop()"
   ]
  },
  {
   "cell_type": "code",
   "execution_count": 2,
   "metadata": {},
   "outputs": [],
   "source": [
    "import tkinter as tk\n",
    "\n",
    "root = tk.Tk()\n",
    "root.title('oxxo.studio')\n",
    "root.geometry('200x200')\n",
    "\n",
    "mylabel = tk.Label(root,\n",
    "                  text='hello world\\n大家好',\n",
    "                  font=('Arial',20,'bold'),\n",
    "                  fg='#f00',\n",
    "                  bitmap='info',\n",
    "                  compound='left')\n",
    "mylabel.pack()\n",
    "\n",
    "root.mainloop()"
   ]
  },
  {
   "cell_type": "code",
   "execution_count": 6,
   "metadata": {},
   "outputs": [],
   "source": [
    "from tkinter import font\n",
    "import tkinter as tk\n",
    "\n",
    "root = tk.Tk()\n",
    "root.title('oxxo.studio')\n",
    "root.geometry('200x200')\n",
    "\n",
    "mylabel = tk.Label(root,\n",
    "                  text='hello world\\n大家好',\n",
    "                  font=('思源黑體',20,'bold'),\n",
    "                  fg='#fff',\n",
    "                  bg='#f50',\n",
    "                  relief='groove',\n",
    "                  pady=20,\n",
    "                  padx=20)\n",
    "mylabel.pack()\n",
    "\n",
    "root.mainloop()"
   ]
  },
  {
   "cell_type": "code",
   "execution_count": 5,
   "metadata": {},
   "outputs": [],
   "source": [
    "from tkinter import *\n",
    "import tkinter.font as tkFont\n",
    "\n",
    "\n",
    "class BuckysButtons:\n",
    "\n",
    "    def __init__(self,master):\n",
    "        frame = Frame(master)\n",
    "        frame.pack() \n",
    "\n",
    "        helv36 = tkFont.Font(family=\"Helvetica\",size=36,weight=\"bold\")\n",
    "\n",
    "        self.printButton = Button(frame,font=helv36, text =\"Print Message\",command = self.printMessage,compound ='top')\n",
    "        self.printButton.pack(side =LEFT)\n",
    "            \n",
    "        self.quitButton = Button(frame, text =\"quit\", command = frame.quit)\n",
    "        self.quitButton.pack(side=LEFT)\n",
    "\n",
    "\n",
    "    def printMessage(self):\n",
    "        print(\"It worked!\")\n",
    "\n",
    "        root = Tk()\n",
    "        b = BuckysButtons(root)\n",
    "        root.mainloop()"
   ]
  }
 ],
 "metadata": {
  "kernelspec": {
   "display_name": "base",
   "language": "python",
   "name": "python3"
  },
  "language_info": {
   "codemirror_mode": {
    "name": "ipython",
    "version": 3
   },
   "file_extension": ".py",
   "mimetype": "text/x-python",
   "name": "python",
   "nbconvert_exporter": "python",
   "pygments_lexer": "ipython3",
   "version": "3.12.2"
  }
 },
 "nbformat": 4,
 "nbformat_minor": 2
}
