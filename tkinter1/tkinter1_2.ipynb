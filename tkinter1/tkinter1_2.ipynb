{
 "cells": [
  {
   "cell_type": "code",
   "execution_count": 1,
   "metadata": {},
   "outputs": [],
   "source": [
    "import tkinter as tk\n",
    "\n",
    "root = tk.Tk()\n",
    "root.title('oxxo.studio')\n",
    "root.geometry('200x200')\n",
    "\n",
    "mylabel = tk.Label(root,\n",
    "                  text='hello world\\n大家好',\n",
    "                  font=('Arial',20,'bold'),\n",
    "                  fg='#f00')\n",
    "mylabel.pack()\n",
    "\n",
    "root.mainloop()"
   ]
  },
  {
   "cell_type": "code",
   "execution_count": 2,
   "metadata": {},
   "outputs": [],
   "source": [
    "import tkinter as tk\n",
    "\n",
    "root = tk.Tk()\n",
    "root.title('oxxo.studio')\n",
    "root.geometry('200x200')\n",
    "\n",
    "mylabel = tk.Label(root,\n",
    "                  text='hello world\\n大家好',\n",
    "                  font=('Arial',20,'bold'),\n",
    "                  fg='#f00',\n",
    "                  bitmap='info',\n",
    "                  compound='left')\n",
    "mylabel.pack()\n",
    "\n",
    "root.mainloop()"
   ]
  },
  {
   "cell_type": "code",
   "execution_count": 6,
   "metadata": {},
   "outputs": [],
   "source": [
    "from tkinter import font\n",
    "import tkinter as tk\n",
    "\n",
    "root = tk.Tk()\n",
    "root.title('oxxo.studio')\n",
    "root.geometry('200x200')\n",
    "\n",
    "mylabel = tk.Label(root,\n",
    "                  text='hello world\\n大家好',\n",
    "                  font=('思源黑體',20,'bold'),\n",
    "                  fg='#fff',\n",
    "                  bg='#f50',\n",
    "                  relief='groove',\n",
    "                  pady=20,\n",
    "                  padx=20)\n",
    "mylabel.pack()\n",
    "\n",
    "root.mainloop()"
   ]
  },
  {
   "cell_type": "code",
   "execution_count": 7,
   "metadata": {},
   "outputs": [],
   "source": [
    "from tkinter import *\n",
    "import tkinter.font as tkFont\n",
    "\n",
    "\n",
    "class BuckysButtons:\n",
    "\n",
    "    def __init__(self,master):\n",
    "        frame = Frame(master)\n",
    "        frame.pack() \n",
    "\n",
    "        helv36 = tkFont.Font(family=\"Helvetica\",size=36,weight=\"bold\")\n",
    "\n",
    "        self.printButton = Button(frame,font=helv36, text =\"Print Message\",command = self.printMessage,compound ='top')\n",
    "        self.printButton.pack(side =LEFT)\n",
    "            \n",
    "        self.quitButton = Button(frame, text =\"quit\", command = frame.quit)\n",
    "        self.quitButton.pack(side=LEFT)\n",
    "\n",
    "\n",
    "    def printMessage(self):\n",
    "        print(\"It worked!\")\n",
    "\n",
    "        root = Tk()\n",
    "        b = BuckysButtons(root)\n",
    "        root.mainloop()"
   ]
  },
  {
   "cell_type": "code",
   "execution_count": 8,
   "metadata": {},
   "outputs": [
    {
     "name": "stdout",
     "output_type": "stream",
     "text": [
      "{'DejaVu Serif Display', 'DejaVu Sans', 'STIXNonUnicode', 'DejaVu Serif', 'DejaVu Sans Mono', 'cmex10', 'cmb10', 'STIXGeneral', 'cmsy10', 'STIXSizeFiveSym', 'cmss10', 'DejaVu Sans Display', 'cmr10', 'STIXSizeTwoSym', 'STIXSizeFourSym', 'cmmi10', 'STIXSizeOneSym', 'STIXSizeThreeSym', 'cmtt10'}\n"
     ]
    }
   ],
   "source": [
    "from matplotlib.font_manager import FontManager\n",
    "fm = FontManager()\n",
    "mat_fonts = set(f.name for f in fm.ttflist)\n",
    "print(mat_fonts)\n"
   ]
  },
  {
   "cell_type": "code",
   "execution_count": 9,
   "metadata": {},
   "outputs": [],
   "source": [
    "import pandas as pd\n",
    "import matplotlib.pyplot as plt\n",
    "plt.rcParams['font.sans-serif'] = ['Arial Unicode Ms']\n"
   ]
  },
  {
   "cell_type": "code",
   "execution_count": null,
   "metadata": {},
   "outputs": [],
   "source": [
    "plt.figure(figsize=(10, 6))\n",
    "plt.bar(['A', 'B', 'C'], [10, 20, 15])\n",
    "plt.title('中文字測試', fontsize=16) # 標題中應用中文字體\n",
    "plt.xlabel('類別', fontsize=12) # 標籤中應用中文字體\n",
    "plt.ylabel('數量', fontsize=12) # 標籤中應用中文字體\n",
    "plt.show()\n"
   ]
  }
 ],
 "metadata": {
  "kernelspec": {
   "display_name": "base",
   "language": "python",
   "name": "python3"
  },
  "language_info": {
   "codemirror_mode": {
    "name": "ipython",
    "version": 3
   },
   "file_extension": ".py",
   "mimetype": "text/x-python",
   "name": "python",
   "nbconvert_exporter": "python",
   "pygments_lexer": "ipython3",
   "version": "3.12.2"
  }
 },
 "nbformat": 4,
 "nbformat_minor": 2
}
