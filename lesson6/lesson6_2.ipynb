{
 "cells": [
  {
   "cell_type": "code",
   "execution_count": null,
   "metadata": {},
   "outputs": [
    {
     "data": {
      "text/plain": [
       "openpyxl.workbook.workbook.Workbook"
      ]
     },
     "execution_count": 16,
     "metadata": {},
     "output_type": "execute_result"
    }
   ],
   "source": [
    "from openpyxl import load_workbook,Workbook,worksheet\n",
    "\n",
    "\n",
    "wb:Workbook = load_workbook('aqi.xlsx')\n",
    "type(wb)"
   ]
  },
  {
   "cell_type": "code",
   "execution_count": null,
   "metadata": {},
   "outputs": [],
   "source": [
    "from pprint import pprint\n",
    "sheet:worksheet = wb.worksheets[0]\n",
    "type(sheet)\n",
    "sheets:list =[]\n",
    "column_names:list[str] = [cell.value for cell in list(sheet)[0]]\n",
    "print(column_names)\n",
    "\n",
    "for row in list(sheet)[1:]:\n",
    "    site:dict = {}\n",
    "    for idx,cell in enumerate(row):\n",
    "        #print(column_names[idx], item)\n",
    "        site[column_names[idx]] = cell.value\n",
    "    sheets.append(site)\n",
    "print(len(sheets))\n",
    "pprint(sheets)\n"
   ]
  },
  {
   "cell_type": "code",
   "execution_count": null,
   "metadata": {},
   "outputs": [],
   "source": [
    "from openpyxl import load_workbook,Workbook,worksheet\n",
    "\n",
    "wb:Workbook = load_workbook('aqi.xlsx')\n",
    "from pprint import pprint\n",
    "sheet:worksheet = wb.worksheets[0]\n",
    "type(sheet)\n",
    "sheets:list =[]\n",
    "column_names:list[str] = [cell.value for cell in list(sheet)[0]]\n",
    "print(column_names)\n",
    "\n",
    "for row in list(sheet)[1:]:\n",
    "    site:dict = {column_names[idx]:cell.value for idx,cell in enumerate(row)}\n",
    "\n",
    "    sheets.append(site)\n",
    "\n",
    "pprint(sheets)"
   ]
  },
  {
   "cell_type": "code",
   "execution_count": null,
   "metadata": {},
   "outputs": [
    {
     "name": "stdout",
     "output_type": "stream",
     "text": [
      "{'sitename': '大城', 'county': '彰化縣', 'aqi': 40, 'pollutant': None, 'status': '良好', 'so2': 1.5, 'co': 0.25, 'o3': 37.5, 'o3_8hr': 42.1, 'pm10': 36, 'pm2.5': 16, 'no2': 6.8, 'nox': 7.2, 'no': 0.4, 'windspeed': 8.6, 'winddirec': 47, 'datacreationdate': '2024-11-26 20:00', 'unit': None, 'co_8hr': 0.2, 'pm2.5_avg': 12.2, 'pm10_avg': 30, 'so2_avg': 1, 'longitude': 120.26964167, 'latitude': 23.85493056, 'siteid': 85}\n",
      "{'sitename': '大城', 'county': '彰化縣', 'aqi': 39, 'pollutant': None, 'status': '良好', 'so2': 1.4, 'co': 0.25, 'o3': 37.1, 'o3_8hr': 42.1, 'pm10': 24, 'pm2.5': 14, 'no2': 6, 'nox': 7.1, 'no': 1, 'windspeed': 9, 'winddirec': 45, 'datacreationdate': '2024-11-26 19:00', 'unit': None, 'co_8hr': 0.2, 'pm2.5_avg': 11, 'pm10_avg': 30, 'so2_avg': 1, 'longitude': 120.26964167, 'latitude': 23.85493056, 'siteid': 85}\n",
      "{'sitename': '大城', 'county': '彰化縣', 'aqi': 39, 'pollutant': None, 'status': '良好', 'so2': 1.4, 'co': 0.25, 'o3': 37.1, 'o3_8hr': 42.1, 'pm10': 24, 'pm2.5': 14, 'no2': 6, 'nox': 7.1, 'no': 1, 'windspeed': 9, 'winddirec': 45, 'datacreationdate': '2024-11-26 19:00', 'unit': None, 'co_8hr': 0.2, 'pm2.5_avg': 11, 'pm10_avg': 30, 'so2_avg': 1, 'longitude': 120.26964167, 'latitude': 23.85493056, 'siteid': 85}\n",
      "{'sitename': '大城', 'county': '彰化縣', 'aqi': 38, 'pollutant': None, 'status': '良好', 'so2': 1.4, 'co': 0.28, 'o3': 35.5, 'o3_8hr': 41.4, 'pm10': 27, 'pm2.5': 16, 'no2': 6.1, 'nox': 7.2, 'no': 1, 'windspeed': 9.7, 'winddirec': 41, 'datacreationdate': '2024-11-26 18:00', 'unit': None, 'co_8hr': 0.2, 'pm2.5_avg': 9.4, 'pm10_avg': 29, 'so2_avg': 1, 'longitude': 120.26964167, 'latitude': 23.85493056, 'siteid': 85}\n",
      "{'sitename': '大城', 'county': '彰化縣', 'aqi': 38, 'pollutant': None, 'status': '良好', 'so2': 1.4, 'co': 0.28, 'o3': 35.5, 'o3_8hr': 41.4, 'pm10': 27, 'pm2.5': 16, 'no2': 6.1, 'nox': 7.2, 'no': 1, 'windspeed': 9.7, 'winddirec': 41, 'datacreationdate': '2024-11-26 18:00', 'unit': None, 'co_8hr': 0.2, 'pm2.5_avg': 9.4, 'pm10_avg': 29, 'so2_avg': 1, 'longitude': 120.26964167, 'latitude': 23.85493056, 'siteid': 85}\n",
      "{'sitename': '大城', 'county': '彰化縣', 'aqi': 37, 'pollutant': None, 'status': '良好', 'so2': 1.5, 'co': 0.31, 'o3': 38.2, 'o3_8hr': 40.5, 'pm10': 30, 'pm2.5': 13, 'no2': 5, 'nox': 5.9, 'no': 0.9, 'windspeed': 10.6, 'winddirec': 40, 'datacreationdate': '2024-11-26 17:00', 'unit': None, 'co_8hr': 0.2, 'pm2.5_avg': 7.6, 'pm10_avg': 30, 'so2_avg': 1, 'longitude': 120.26964167, 'latitude': 23.85493056, 'siteid': 85}\n",
      "{'sitename': '大城', 'county': '彰化縣', 'aqi': 37, 'pollutant': None, 'status': '良好', 'so2': 1.5, 'co': 0.31, 'o3': 38.2, 'o3_8hr': 40.5, 'pm10': 30, 'pm2.5': 13, 'no2': 5, 'nox': 5.9, 'no': 0.9, 'windspeed': 10.6, 'winddirec': 40, 'datacreationdate': '2024-11-26 17:00', 'unit': None, 'co_8hr': 0.2, 'pm2.5_avg': 7.6, 'pm10_avg': 30, 'so2_avg': 1, 'longitude': 120.26964167, 'latitude': 23.85493056, 'siteid': 85}\n",
      "{'sitename': '大城', 'county': '彰化縣', 'aqi': 36, 'pollutant': None, 'status': '良好', 'so2': 1.3, 'co': 0.31, 'o3': 48.9, 'o3_8hr': 39.1, 'pm10': 44, 'pm2.5': 11, 'no2': 3.9, 'nox': 4.9, 'no': 0.9, 'windspeed': 10.8, 'winddirec': 40, 'datacreationdate': '2024-11-26 16:00', 'unit': None, 'co_8hr': 0.2, 'pm2.5_avg': 6.5, 'pm10_avg': 36, 'so2_avg': 1, 'longitude': 120.26964167, 'latitude': 23.85493056, 'siteid': 85}\n",
      "{'sitename': '大城', 'county': '彰化縣', 'aqi': 36, 'pollutant': None, 'status': '良好', 'so2': 1.3, 'co': 0.31, 'o3': 48.9, 'o3_8hr': 39.1, 'pm10': 44, 'pm2.5': 11, 'no2': 3.9, 'nox': 4.9, 'no': 0.9, 'windspeed': 10.8, 'winddirec': 40, 'datacreationdate': '2024-11-26 16:00', 'unit': None, 'co_8hr': 0.2, 'pm2.5_avg': 6.5, 'pm10_avg': 36, 'so2_avg': 1, 'longitude': 120.26964167, 'latitude': 23.85493056, 'siteid': 85}\n",
      "{'sitename': '大城', 'county': '彰化縣', 'aqi': 35, 'pollutant': None, 'status': '良好', 'so2': 1.5, 'co': 0.29, 'o3': 52.1, 'o3_8hr': 36.7, 'pm10': 18, 'pm2.5': 5, 'no2': 4, 'nox': 5.1, 'no': 1, 'windspeed': 10.2, 'winddirec': 34, 'datacreationdate': '2024-11-26 15:00', 'unit': None, 'co_8hr': 0.2, 'pm2.5_avg': 5.4, 'pm10_avg': 35, 'so2_avg': 1, 'longitude': 120.26964167, 'latitude': 23.85493056, 'siteid': 85}\n",
      "{'sitename': '大城', 'county': '彰化縣', 'aqi': 35, 'pollutant': None, 'status': '良好', 'so2': 1.5, 'co': 0.29, 'o3': 52.1, 'o3_8hr': 36.7, 'pm10': 18, 'pm2.5': 5, 'no2': 4, 'nox': 5.1, 'no': 1, 'windspeed': 10.2, 'winddirec': 34, 'datacreationdate': '2024-11-26 15:00', 'unit': None, 'co_8hr': 0.2, 'pm2.5_avg': 5.4, 'pm10_avg': 35, 'so2_avg': 1, 'longitude': 120.26964167, 'latitude': 23.85493056, 'siteid': 85}\n",
      "{'sitename': '大城', 'county': '彰化縣', 'aqi': 36, 'pollutant': None, 'status': '良好', 'so2': 1.6, 'co': 0.28, 'o3': 46.2, 'o3_8hr': 34.2, 'pm10': 41, 'pm2.5': 6, 'no2': None, 'nox': None, 'no': None, 'windspeed': 8.4, 'winddirec': 33, 'datacreationdate': '2024-11-26 14:00', 'unit': None, 'co_8hr': 0.2, 'pm2.5_avg': 5.2, 'pm10_avg': 36, 'so2_avg': 1, 'longitude': 120.26964167, 'latitude': 23.85493056, 'siteid': 85}\n"
     ]
    }
   ],
   "source": [
    "for site in sheets:\n",
    "    if site['sitename'] == '永和':\n",
    "    #if site['sitename'] == '大城':\n",
    "        print(site)"
   ]
  }
 ],
 "metadata": {
  "kernelspec": {
   "display_name": "base",
   "language": "python",
   "name": "python3"
  },
  "language_info": {
   "codemirror_mode": {
    "name": "ipython",
    "version": 3
   },
   "file_extension": ".py",
   "mimetype": "text/x-python",
   "name": "python",
   "nbconvert_exporter": "python",
   "pygments_lexer": "ipython3",
   "version": "3.12.2"
  }
 },
 "nbformat": 4,
 "nbformat_minor": 2
}
