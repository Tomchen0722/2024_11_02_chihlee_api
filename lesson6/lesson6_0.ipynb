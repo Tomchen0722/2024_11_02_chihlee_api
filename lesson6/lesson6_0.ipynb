{
 "cells": [
  {
   "cell_type": "code",
   "execution_count": 2,
   "metadata": {},
   "outputs": [
    {
     "name": "stdout",
     "output_type": "stream",
     "text": [
      "本期大樂透電腦選號號碼如下\n",
      "5 18 19 35 43 47 21 \n",
      "特別號：21\n"
     ]
    }
   ],
   "source": [
    "import random\n",
    "\n",
    "def main():\n",
    "    set1:set = set()\n",
    "    #mysetliis:list =[]\n",
    "    while len(set1)<7:\n",
    "        myrandom = random.randint(1,49)\n",
    "        set1.add(myrandom)\n",
    "        if len(set1) == 7:\n",
    "            SpecialNum = myrandom\n",
    "            set1.remove(SpecialNum)\n",
    "            mysetlist = sorted(set1)\n",
    "            break\n",
    "    mysetlist.append(SpecialNum)\n",
    "\n",
    "    print(\"本期大樂透電腦選號號碼如下\")\n",
    "    for num in mysetlist:\n",
    "        print(num,end=\" \")\n",
    "    print()\n",
    "    print(f'特別號：{SpecialNum}')\n",
    "if __name__ == '__main__':\n",
    "    main()"
   ]
  }
 ],
 "metadata": {
  "kernelspec": {
   "display_name": "base",
   "language": "python",
   "name": "python3"
  },
  "language_info": {
   "codemirror_mode": {
    "name": "ipython",
    "version": 3
   },
   "file_extension": ".py",
   "mimetype": "text/x-python",
   "name": "python",
   "nbconvert_exporter": "python",
   "pygments_lexer": "ipython3",
   "version": "3.12.2"
  }
 },
 "nbformat": 4,
 "nbformat_minor": 2
}
