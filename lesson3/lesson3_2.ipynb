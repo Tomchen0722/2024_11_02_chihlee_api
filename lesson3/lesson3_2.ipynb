{
 "cells": [
  {
   "cell_type": "code",
   "execution_count": null,
   "metadata": {},
   "outputs": [],
   "source": [
    "i = 1\n",
    "while i<=10: #不確定知道執行次數..\n",
    "    print(i)\n",
    "    i += int(input(\"請輸入數值\"))"
   ]
  }
 ],
 "metadata": {
  "language_info": {
   "name": "python"
  }
 },
 "nbformat": 4,
 "nbformat_minor": 2
}
