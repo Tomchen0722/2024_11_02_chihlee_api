{
 "cells": [
  {
   "cell_type": "code",
   "execution_count": null,
   "metadata": {},
   "outputs": [],
   "source": [
    "#typehint 型別提示\n",
    "#變數,參數, return\n",
    "i:int = 10"
   ]
  },
  {
   "cell_type": "code",
   "execution_count": null,
   "metadata": {},
   "outputs": [],
   "source": [
    "#python是First class程式語言\n",
    "#Function也有型別\n",
    "#變數可以儲存Function\n",
    "#Function可以當作參數\n",
    "#Function可以當作傳出值"
   ]
  },
  {
   "cell_type": "code",
   "execution_count": 2,
   "metadata": {},
   "outputs": [
    {
     "data": {
      "text/plain": [
       "19"
      ]
     },
     "execution_count": 2,
     "metadata": {},
     "output_type": "execute_result"
    }
   ],
   "source": [
    "from typing import Callable  #typing支援型別提示\n",
    "\n",
    "MyFunction = Callable[[int,int],int]  #[[參數,參數],傳出]\n",
    "def add(a:int,b:int) -> int:\n",
    "    return a + b\n",
    "\n",
    "myfun:MyFunction =  add #\n",
    "\n",
    "myfun(9, 10)"
   ]
  },
  {
   "cell_type": "code",
   "execution_count": null,
   "metadata": {},
   "outputs": [
    {
     "name": "stdout",
     "output_type": "stream",
     "text": [
      "Function開始\n",
      "您好:robert\n",
      "您好:jenny\n",
      "function結束\n"
     ]
    }
   ],
   "source": [
    "#decorator 的功能(修飾)\n",
    "def decorator_function(orgial_function):\n",
    "    def wrapper_function():\n",
    "        print('Function開始')\n",
    "        orgial_function()\n",
    "        print(\"function結束\")\n",
    "    return wrapper_function\n",
    "\n",
    "def say_hello():\n",
    "    print(\"您好:robert\")\n",
    "    print(\"您好:jenny\")\n",
    "\n",
    "newFunction = decorator_function(say_hello)\n",
    "newFunction()"
   ]
  },
  {
   "cell_type": "code",
   "execution_count": 4,
   "metadata": {},
   "outputs": [
    {
     "name": "stdout",
     "output_type": "stream",
     "text": [
      "Function開始\n",
      "您好:robert\n",
      "您好:jenny\n",
      "function結束\n"
     ]
    }
   ],
   "source": [
    "@decorator_function\n",
    "def abc():\n",
    "    print(\"您好:robert\")\n",
    "    print(\"您好:jenny\")\n",
    "\n",
    "abc()"
   ]
  },
  {
   "cell_type": "code",
   "execution_count": 1,
   "metadata": {},
   "outputs": [
    {
     "name": "stdout",
     "output_type": "stream",
     "text": [
      "異常範圍\n",
      "過重\n",
      "您的BMI值是26.64\n",
      "您的體重77\n",
      "應用程式結束\n"
     ]
    }
   ],
   "source": [
    "def get_status(bmi:float)->str:\n",
    "\n",
    "    if bmi >= 35 or bmi >= 24 or bmi < 18.5:\n",
    "        print(\"異常範圍\")\n",
    "        if bmi >= 35 :\n",
    "            print(\"重度肥胖\")\n",
    "        elif bmi >= 30 :\n",
    "            print(\"中度肥胖\")\n",
    "        elif bmi >= 27 :\n",
    "            print(\"中度肥胖\")\n",
    "        elif bmi >= 24 :\n",
    "            print(\"過重\")\n",
    "        elif bmi < 18.5:\n",
    "            print(\"體重過輕\") \n",
    " \n",
    "    elif bmi >=18.5 and bmi < 24:\n",
    "        print(\"正常範圍\")  \n",
    "while(True):\n",
    "    try: \n",
    "        height = int(input(\"請輸入身高（公分):\"))\n",
    "        weight = int(input(\"請輸入體重（公斤):\"))\n",
    "    except Exception:\n",
    "        print('輸入格式錯誤 ,請重新輸入')\n",
    "        continue\n",
    "    else:\n",
    "        bmi = round(weight /((height / 100) ** 2),2)\n",
    "\n",
    "        get_status(bmi)\n",
    "        \n",
    "    print(f\"您的BMI值是{bmi}\\n您的體重{weight}\") \n",
    "    break\n",
    "print(\"應用程式結束\")"
   ]
  }
 ],
 "metadata": {
  "kernelspec": {
   "display_name": "base",
   "language": "python",
   "name": "python3"
  },
  "language_info": {
   "codemirror_mode": {
    "name": "ipython",
    "version": 3
   },
   "file_extension": ".py",
   "mimetype": "text/x-python",
   "name": "python",
   "nbconvert_exporter": "python",
   "pygments_lexer": "ipython3",
   "version": "3.12.4"
  }
 },
 "nbformat": 4,
 "nbformat_minor": 2
}
