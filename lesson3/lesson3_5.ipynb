{
 "cells": [
  {
   "cell_type": "code",
   "execution_count": null,
   "metadata": {},
   "outputs": [],
   "source": [
    "#typehint 型別提示\n",
    "#變數,參數, return\n",
    "i:int = 10"
   ]
  },
  {
   "cell_type": "code",
   "execution_count": null,
   "metadata": {},
   "outputs": [],
   "source": [
    "#python是First class程式語言\n",
    "#Function也有型別\n",
    "#變數可以儲存Function\n",
    "#Function可以當作參數\n",
    "#Function可以當作傳出值"
   ]
  },
  {
   "cell_type": "code",
   "execution_count": 2,
   "metadata": {},
   "outputs": [
    {
     "data": {
      "text/plain": [
       "19"
      ]
     },
     "execution_count": 2,
     "metadata": {},
     "output_type": "execute_result"
    }
   ],
   "source": [
    "from typing import Callable  #typing支援型別提示\n",
    "\n",
    "MyFunction = Callable[[int,int],int]  #[[參數,參數],傳出]\n",
    "def add(a:int,b:int) -> int:\n",
    "    return a + b\n",
    "\n",
    "myfun:MyFunction =  add #\n",
    "\n",
    "myfun(9, 10)"
   ]
  },
  {
   "cell_type": "code",
   "execution_count": 3,
   "metadata": {},
   "outputs": [
    {
     "name": "stdout",
     "output_type": "stream",
     "text": [
      "Function開始\n",
      "您好:robert\n",
      "您好:jenny\n",
      "function結束\n"
     ]
    }
   ],
   "source": [
    "#decorator 修飾\n",
    "def decorator_function(orgial_function):\n",
    "    def wrapper_function():\n",
    "        print('Function開始')\n",
    "        orgial_function()\n",
    "        print(\"function結束\")\n",
    "    return wrapper_function\n",
    "\n",
    "def say_hello():\n",
    "    print(\"您好:robert\")\n",
    "    print(\"您好:jenny\")\n",
    "\n",
    "newFunction = decorator_function(say_hello)\n",
    "newFunction()"
   ]
  },
  {
   "cell_type": "code",
   "execution_count": null,
   "metadata": {},
   "outputs": [],
   "source": [
    "@decorator_function\n",
    "def abc():\n",
    "    print(\"您好:robert\")\n",
    "    print(\"您好:jenny\")\n",
    "\n",
    "abc()"
   ]
  }
 ],
 "metadata": {
  "kernelspec": {
   "display_name": "base",
   "language": "python",
   "name": "python3"
  },
  "language_info": {
   "codemirror_mode": {
    "name": "ipython",
    "version": 3
   },
   "file_extension": ".py",
   "mimetype": "text/x-python",
   "name": "python",
   "nbconvert_exporter": "python",
   "pygments_lexer": "ipython3",
   "version": "3.12.3"
  }
 },
 "nbformat": 4,
 "nbformat_minor": 2
}
