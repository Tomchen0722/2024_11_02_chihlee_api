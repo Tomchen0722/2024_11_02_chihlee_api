{
 "cells": [
  {
   "cell_type": "code",
   "execution_count": null,
   "metadata": {},
   "outputs": [
    {
     "name": "stdout",
     "output_type": "stream",
     "text": [
      "正常範圍\n",
      "您的BMI值是21.8\n",
      "您的體重63\n",
      "應用程式結束\n"
     ]
    }
   ],
   "source": [
    "def get_status(bmi:float)->str:\n",
    "\n",
    "    if bmi >= 35 or bmi >= 24 or bmi < 18.5:\n",
    "        print(\"異常範圍\")\n",
    "        if bmi >= 35 :\n",
    "            print(\"重度肥胖\")\n",
    "        elif bmi >= 30 :\n",
    "            print(\"中度肥胖\")\n",
    "        elif bmi >= 27 :\n",
    "            print(\"中度肥胖\")\n",
    "        elif bmi >= 24 :\n",
    "            print(\"過重\")\n",
    "        elif bmi < 18.5:\n",
    "            print(\"體重過輕\") \n",
    " \n",
    "    elif bmi >=18.5 and bmi < 24:\n",
    "        print(\"正常範圍\")  \n",
    "while(True):\n",
    "    try: \n",
    "        count = 0\n",
    "        height = int(input(\"請輸入身高（公分):\"))\n",
    "        weight = int(input(\"請輸入體重（公斤):\"))\n",
    "    except Exception:\n",
    "        print('輸入格式錯誤 ,請重新輸入')\n",
    "        continue\n",
    "    else:\n",
    "        bmi = round(weight /((height / 100) ** 2),2)\n",
    "\n",
    "        get_status(bmi)\n",
    "        \n",
    "    print(f\"您的BMI值是{bmi}\\n您的體重{weight}\") \n",
    "    break\n",
    "print(\"應用程式結束\")"
   ]
  }
 ],
 "metadata": {
  "kernelspec": {
   "display_name": "base",
   "language": "python",
   "name": "python3"
  },
  "language_info": {
   "codemirror_mode": {
    "name": "ipython",
    "version": 3
   },
   "file_extension": ".py",
   "mimetype": "text/x-python",
   "name": "python",
   "nbconvert_exporter": "python",
   "pygments_lexer": "ipython3",
   "version": "3.12.2"
  }
 },
 "nbformat": 4,
 "nbformat_minor": 2
}
