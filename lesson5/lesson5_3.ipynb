{
 "cells": [
  {
   "cell_type": "code",
   "execution_count": null,
   "metadata": {},
   "outputs": [],
   "source": [
    "class Item:\n",
    "    def __init__(self, name:str, price:int):\n",
    "        self.name = name\n",
    "        self.price = price\n",
    "\n",
    "items:list[Item] = [ #資料型別為Item\n",
    "        Item(\"Apple\",20),\n",
    "        Item(\"Banana\",10),\n",
    "        Item(\"Cherry\",30)          \n",
    "        ]\n",
    "\n",
    "#def abc(x:Item)->int: #要自訂function\n",
    " #   return x.price\n",
    "\n",
    "#newItems = sorted(items,key=abc)\n",
    "newItems = sorted(items,key=lambda x:x.price)#匿名function(lambda)\n",
    "for item in newItems:\n",
    "\n",
    "    print(item.name)\n",
    "    print(item.price)\n",
    "    print(\"========\")"
   ]
  },
  {
   "cell_type": "code",
   "execution_count": null,
   "metadata": {},
   "outputs": [],
   "source": [
    "items:list[dict] = [ #資料型別為dictionary\n",
    "    {\"name\":\"Apple\",\"price\":20},\n",
    "    {\"name\":\"Banana\",\"price\":10},\n",
    "    {\"name\":\"Cherry\",\"price\":30}\n",
    "]"
   ]
  },
  {
   "cell_type": "code",
   "execution_count": null,
   "metadata": {},
   "outputs": [
    {
     "data": {
      "text/plain": [
       "('Apple', 20)"
      ]
     },
     "execution_count": 6,
     "metadata": {},
     "output_type": "execute_result"
    }
   ],
   "source": [
    "item:dict={\"name\":\"Apple\", #建立一個dictionary\n",
    "           \"price\":20}\n",
    "item['name'], item['price']"
   ]
  }
 ],
 "metadata": {
  "kernelspec": {
   "display_name": "base",
   "language": "python",
   "name": "python3"
  },
  "language_info": {
   "codemirror_mode": {
    "name": "ipython",
    "version": 3
   },
   "file_extension": ".py",
   "mimetype": "text/x-python",
   "name": "python",
   "nbconvert_exporter": "python",
   "pygments_lexer": "ipython3",
   "version": "3.12.4"
  }
 },
 "nbformat": 4,
 "nbformat_minor": 2
}
