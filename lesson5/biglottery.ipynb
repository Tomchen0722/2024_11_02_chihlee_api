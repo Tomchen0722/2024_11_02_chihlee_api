{
 "cells": [
  {
   "cell_type": "code",
   "execution_count": null,
   "metadata": {},
   "outputs": [],
   "source": [
    "n = 0\n",
    "for i in range(1, 11): # 11 （明確知道次數）\n",
    "    n += i\n",
    "n"
   ]
  },
  {
   "cell_type": "code",
   "execution_count": null,
   "metadata": {},
   "outputs": [
    {
     "name": "stdout",
     "output_type": "stream",
     "text": [
      "您總共要 6 組電腦選號\n",
      "第 1 組大樂透電腦選號號碼如下:[8, 20, 37, 39, 43, 47]\n",
      "特別號:23\n",
      "第 2 組大樂透電腦選號號碼如下:[3, 4, 17, 24, 40, 49]\n",
      "特別號:31\n",
      "第 3 組大樂透電腦選號號碼如下:[7, 12, 15, 38, 40, 47]\n",
      "特別號:22\n",
      "第 4 組大樂透電腦選號號碼如下:[3, 15, 16, 18, 32, 41]\n",
      "特別號:19\n",
      "第 5 組大樂透電腦選號號碼如下:[6, 13, 14, 17, 18, 46]\n",
      "特別號:30\n",
      "第 6 組大樂透電腦選號號碼如下:[15, 20, 32, 35, 42, 47]\n",
      "特別號:24\n",
      "您總共要 5 組電腦選號\n",
      "第 1 組大樂透電腦選號號碼如下:[5, 9, 14, 15, 42, 48]\n",
      "特別號:28\n",
      "第 2 組大樂透電腦選號號碼如下:[6, 7, 16, 17, 32, 40]\n",
      "特別號:20\n",
      "第 3 組大樂透電腦選號號碼如下:[9, 32, 33, 36, 41, 49]\n",
      "特別號:19\n",
      "第 4 組大樂透電腦選號號碼如下:[11, 12, 36, 39, 40, 47]\n",
      "特別號:20\n",
      "第 5 組大樂透電腦選號號碼如下:[3, 11, 20, 33, 34, 43]\n",
      "特別號:31\n"
     ]
    }
   ],
   "source": [
    "#輸入您想要幾組電腦選號（大樂透）\n",
    "\n",
    "import random\n",
    "\n",
    "def Lotto_numbers():\n",
    "    lotto_numbers = set()\n",
    "\n",
    "    while len(lotto_numbers) < 7:\n",
    "        number = random.randint(1, 49)\n",
    "        lotto_numbers.add(number)\n",
    "        lotto_numbers = list(lotto_numbers)\n",
    "        special_number = lotto_numbers[-1]\n",
    "        lotto_numbers = sorted(lotto_numbers[:6])\n",
    "    return lotto_numbers, special_number\n",
    "def p_lotto():\n",
    "\n",
    "    t_lotto = int(input(\"請問您要幾組電腦選號？\"))\n",
    "    i = 1\n",
    "\n",
    "    print(f'您總共要 {t_lotto} 組電腦選號')\n",
    "    for index in range(t_lotto):\n",
    "        numbers, special = Lotto_numbers()\n",
    "        print(f'第 {i} 組大樂透電腦選號號碼如下:{numbers}')\n",
    "        print(f'特別號:{special}')\n",
    "        i = i+ 1\n",
    "\n",
    "def main():\n",
    "    while(True):\n",
    "        p_lotto()\n",
    "\n",
    "        answering = input(\"請問還要繼續嗎?(y,n)\")\n",
    "        if answering == 'n':\n",
    "            break\n",
    "\n",
    "if __name__ == \"__main__\":\n",
    "    main()"
   ]
  }
 ],
 "metadata": {
  "kernelspec": {
   "display_name": "base",
   "language": "python",
   "name": "python3"
  },
  "language_info": {
   "codemirror_mode": {
    "name": "ipython",
    "version": 3
   },
   "file_extension": ".py",
   "mimetype": "text/x-python",
   "name": "python",
   "nbconvert_exporter": "python",
   "pygments_lexer": "ipython3",
   "version": "3.12.2"
  }
 },
 "nbformat": 4,
 "nbformat_minor": 2
}
