{
 "cells": [
  {
   "cell_type": "code",
   "execution_count": null,
   "metadata": {},
   "outputs": [],
   "source": [
    "n = 0\n",
    "for i in range(1, 11): # 11 （明確知道次數）\n",
    "    n += i\n",
    "n"
   ]
  },
  {
   "cell_type": "code",
   "execution_count": null,
   "metadata": {},
   "outputs": [],
   "source": [
    "import random\n",
    "\n",
    "def generate_lotto_numbers():\n",
    "    main_numbers = set()\n",
    "    while len(main_numbers) < 7:\n",
    "        main_numbers.add(set(random.randint(1, 49)))\n",
    "\n",
    "    main_numbers = sorted(list(main_numbers))\n",
    "    \n",
    "    special_number = random.randint(1, 49)\n",
    "    \n",
    "    while special_number in main_numbers:\n",
    "        special_number = random.randint(1, 49)\n",
    "\n",
    "    lotto_result = {\"主號碼\": main_numbers, \"特別號\": special_number}\n",
    "    return lotto_result\n",
    "\n",
    "def main():\n",
    "    lotto_result = generate_lotto_numbers()\n",
    "    print(\"大樂透選號結果:\")\n",
    "    print(\"主號碼:\", lotto_result[\"主號碼\"])\n",
    "    print(\"特別號:\", lotto_result[\"特別號\"])\n",
    "    \n",
    "if __name__ == \"__main__\":\n",
    "    main() "
   ]
  },
  {
   "cell_type": "code",
   "execution_count": null,
   "metadata": {},
   "outputs": [
    {
     "name": "stdout",
     "output_type": "stream",
     "text": [
      "本期大樂透電腦選號號碼如下:[5, 17, 19, 25, 28, 49]\n",
      "特別號:30\n",
      "本期大樂透電腦選號號碼如下:[5, 9, 10, 22, 39, 42]\n",
      "特別號:24\n",
      "本期大樂透電腦選號號碼如下:[4, 5, 11, 21, 40, 46]\n",
      "特別號:25\n"
     ]
    }
   ],
   "source": [
    "import random\n",
    "\n",
    "def Lotto_numbers():\n",
    "    lotto_numbers = set()\n",
    "\n",
    "    while len(lotto_numbers) < 7:\n",
    "        number = random.randint(1, 49)\n",
    "        lotto_numbers.add(number)\n",
    "    lotto_numbers = list(lotto_numbers)\n",
    "    special_number = lotto_numbers[-1]\n",
    "    lotto_numbers = sorted(lotto_numbers[:6])\n",
    "    return lotto_numbers, special_number\n",
    "\n",
    "def main():\n",
    "    while True:\n",
    "        try:\n",
    "            lotto_time = int(input(\"請輸入要幾組電腦選號\"))\n",
    "    \n",
    "            break\n",
    "        except Exception:\n",
    "            print('輸入格式錯誤,請重新輸入!')\n",
    "    while True:\n",
    "      numbers, special = Lotto_numbers()\n",
    "      print(f'本期大樂透電腦選號號碼如下:{numbers}')\n",
    "      print(f'特別號:{special}')\n",
    "      play_again = input(\"還要繼續嗎?(y,n)\")\n",
    "      if play_again == \"n\":\n",
    "        break\n",
    "if __name__ == \"__main__\":\n",
    "    main()"
   ]
  },
  {
   "cell_type": "code",
   "execution_count": null,
   "metadata": {},
   "outputs": [
    {
     "name": "stdout",
     "output_type": "stream",
     "text": [
      "48\n",
      "2\n",
      "37\n",
      "49\n",
      "19\n",
      "23\n",
      "5\n"
     ]
    }
   ],
   "source": [
    "import random #要使用函式庫要先import\n",
    "min = 1\n",
    "max = 49\n",
    "\n",
    "i = 0\n",
    "for i in range(1, 8):\n",
    "    lotter.target = random.randint(min,max)\n",
    "    print(target)"
   ]
  }
 ],
 "metadata": {
  "kernelspec": {
   "display_name": "base",
   "language": "python",
   "name": "python3"
  },
  "language_info": {
   "codemirror_mode": {
    "name": "ipython",
    "version": 3
   },
   "file_extension": ".py",
   "mimetype": "text/x-python",
   "name": "python",
   "nbconvert_exporter": "python",
   "pygments_lexer": "ipython3",
   "version": "3.12.2"
  }
 },
 "nbformat": 4,
 "nbformat_minor": 2
}
