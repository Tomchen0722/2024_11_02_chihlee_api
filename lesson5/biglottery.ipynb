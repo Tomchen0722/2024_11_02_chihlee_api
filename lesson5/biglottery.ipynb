{
 "cells": [
  {
   "cell_type": "code",
   "execution_count": null,
   "metadata": {},
   "outputs": [],
   "source": [
    "n = 0\n",
    "for i in range(1, 11): # 11 （明確知道次數）\n",
    "    n += i\n",
    "n"
   ]
  },
  {
   "cell_type": "code",
   "execution_count": 13,
   "metadata": {},
   "outputs": [
    {
     "name": "stdout",
     "output_type": "stream",
     "text": [
      "您總共要 6 組電腦選號\n",
      "第 1 組大樂透電腦選號號碼如下:[1, 16, 26, 34, 36, 38]\n",
      "特別號:30\n",
      "第 2 組大樂透電腦選號號碼如下:[1, 6, 9, 12, 18, 43]\n",
      "特別號:27\n",
      "第 3 組大樂透電腦選號號碼如下:[7, 11, 37, 38, 39, 49]\n",
      "特別號:25\n",
      "第 4 組大樂透電腦選號號碼如下:[6, 7, 16, 26, 46, 48]\n",
      "特別號:31\n",
      "第 5 組大樂透電腦選號號碼如下:[6, 11, 15, 18, 19, 36]\n",
      "特別號:26\n",
      "第 6 組大樂透電腦選號號碼如下:[4, 8, 27, 28, 32, 33]\n",
      "特別號:31\n"
     ]
    }
   ],
   "source": [
    "#輸入您想要幾組電腦選號（大樂透）\n",
    "\n",
    "import random\n",
    "\n",
    "def Lotto_numbers():\n",
    "    lotto_numbers = set()\n",
    "\n",
    "    while len(lotto_numbers) < 7:\n",
    "        number = random.randint(1, 49)\n",
    "        lotto_numbers.add(number)\n",
    "    lotto_numbers = list(lotto_numbers)\n",
    "    special_number = lotto_numbers[-1]\n",
    "    lotto_numbers = sorted(lotto_numbers[:6])\n",
    "    return lotto_numbers, special_number\n",
    "def p_lotto():\n",
    "\n",
    "    t_lotto = int(input(\"請問您要幾組電腦選號？\"))\n",
    "    i = 1\n",
    "\n",
    "    print(f'您總共要 {t_lotto} 組電腦選號')\n",
    "    for index in range(t_lotto):\n",
    "        numbers, special = Lotto_numbers()\n",
    "        print(f'第 {i} 組大樂透電腦選號號碼如下:{numbers}')\n",
    "        print(f'特別號:{special}')\n",
    "        i = i+ 1\n",
    "\n",
    "def main():\n",
    "    while(True):\n",
    "        p_lotto()\n",
    "\n",
    "        answering = input(\"請問還要繼續嗎?(y,n)\")\n",
    "        if answering == 'n':\n",
    "            break\n",
    "\n",
    "if __name__ == \"__main__\":\n",
    "    main()"
   ]
  }
 ],
 "metadata": {
  "kernelspec": {
   "display_name": "base",
   "language": "python",
   "name": "python3"
  },
  "language_info": {
   "codemirror_mode": {
    "name": "ipython",
    "version": 3
   },
   "file_extension": ".py",
   "mimetype": "text/x-python",
   "name": "python",
   "nbconvert_exporter": "python",
   "pygments_lexer": "ipython3",
   "version": "3.12.2"
  }
 },
 "nbformat": 4,
 "nbformat_minor": 2
}
