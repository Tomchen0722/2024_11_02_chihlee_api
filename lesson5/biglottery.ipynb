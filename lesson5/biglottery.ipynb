{
 "cells": [
  {
   "cell_type": "code",
   "execution_count": null,
   "metadata": {},
   "outputs": [],
   "source": [
    "n = 0\n",
    "for i in range(1, 11): # 11 （明確知道次數）\n",
    "    n += i\n",
    "n"
   ]
  },
  {
   "cell_type": "code",
   "execution_count": 8,
   "metadata": {},
   "outputs": [
    {
     "name": "stdout",
     "output_type": "stream",
     "text": [
      "本期大樂透電腦選號號碼如下\n",
      "5 9 20 35 44 46 45 \n",
      "特別號：45\n"
     ]
    }
   ],
   "source": [
    "import random\n",
    "\n",
    "def main():\n",
    "    set1:set = set()\n",
    "    #mysetliis:list =[]\n",
    "    while len(set1)<7:\n",
    "        myrandom = random.randint(1,49)\n",
    "        set1.add(myrandom)\n",
    "        if len(set1) == 7:\n",
    "            SpecialNum = myrandom\n",
    "            set1.remove(SpecialNum)\n",
    "            mysetlist = sorted(set1)\n",
    "            break\n",
    "    mysetlist.append(SpecialNum)\n",
    "\n",
    "    print(\"本期大樂透電腦選號號碼如下\")\n",
    "    for num in mysetlist:\n",
    "        print(num,end=\" \")\n",
    "    print()\n",
    "    print(f'特別號：{SpecialNum}')\n",
    "if __name__ == '__main__':\n",
    "    main()"
   ]
  },
  {
   "cell_type": "code",
   "execution_count": 1,
   "metadata": {},
   "outputs": [
    {
     "name": "stdout",
     "output_type": "stream",
     "text": [
      "您總共要 9 組電腦選號\n",
      "第 1 組大樂透電腦選號號碼如下:[13, 14, 21, 35, 38, 43]\n",
      "特別號:23\n",
      "第 2 組大樂透電腦選號號碼如下:[17, 21, 23, 24, 41, 48]\n",
      "特別號:30\n",
      "第 3 組大樂透電腦選號號碼如下:[6, 10, 23, 27, 34, 47]\n",
      "特別號:29\n",
      "第 4 組大樂透電腦選號號碼如下:[1, 3, 5, 24, 35, 36]\n",
      "特別號:27\n",
      "第 5 組大樂透電腦選號號碼如下:[3, 4, 7, 12, 14, 19]\n",
      "特別號:20\n",
      "第 6 組大樂透電腦選號號碼如下:[9, 15, 33, 37, 42, 47]\n",
      "特別號:29\n",
      "第 7 組大樂透電腦選號號碼如下:[2, 5, 20, 23, 36, 37]\n",
      "特別號:26\n",
      "第 8 組大樂透電腦選號號碼如下:[2, 10, 16, 37, 46, 48]\n",
      "特別號:49\n",
      "第 9 組大樂透電腦選號號碼如下:[5, 12, 23, 25, 33, 41]\n",
      "特別號:28\n"
     ]
    }
   ],
   "source": [
    "import random\n",
    "\n",
    "def Lotto_numbers():\n",
    "    lotto_numbers = set()\n",
    " \n",
    "    while len(lotto_numbers) < 7:\n",
    "        number = random.randint(1, 49)\n",
    "        lotto_numbers.add(number)\n",
    "    lotto_numbers = list(lotto_numbers)\n",
    "    special_number = lotto_numbers[-1]\n",
    "    lotto_numbers = sorted(lotto_numbers[:6])\n",
    "    return lotto_numbers, special_number\n",
    "\n",
    "def p_lotto():\n",
    "    t_lotto = int(input(\"請輸入要幾組電腦選號\"))\n",
    "    i = 1\n",
    "    print(f'您總共要 {t_lotto} 組電腦選號')\n",
    "    for index in range(t_lotto):\n",
    "        numbers, special = Lotto_numbers()\n",
    "        print(f'第 {i} 組大樂透電腦選號號碼如下:{numbers}')\n",
    "        print(f'特別號:{special}')\n",
    "        i = i+1\n",
    "def main():\n",
    "    while(True):\n",
    "        p_lotto()\n",
    "        answering = input(\"還要繼續嗎?(y,n)\")\n",
    "        if answering == \"n\":\n",
    "            break\n",
    "if __name__ == \"__main__\":\n",
    "    main()"
   ]
  }
 ],
 "metadata": {
  "kernelspec": {
   "display_name": "base",
   "language": "python",
   "name": "python3"
  },
  "language_info": {
   "codemirror_mode": {
    "name": "ipython",
    "version": 3
   },
   "file_extension": ".py",
   "mimetype": "text/x-python",
   "name": "python",
   "nbconvert_exporter": "python",
   "pygments_lexer": "ipython3",
   "version": "3.12.2"
  }
 },
 "nbformat": 4,
 "nbformat_minor": 2
}
