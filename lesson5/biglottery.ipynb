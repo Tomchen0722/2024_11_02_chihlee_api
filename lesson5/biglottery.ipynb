{
 "cells": [
  {
   "cell_type": "code",
   "execution_count": null,
   "metadata": {},
   "outputs": [],
   "source": [
    "n = 0\n",
    "for i in range(1, 11): # 11 （明確知道次數）\n",
    "    n += i\n",
    "n"
   ]
  },
  {
   "cell_type": "code",
   "execution_count": null,
   "metadata": {},
   "outputs": [],
   "source": [
    "import random #要使用函式庫要先import\n",
    "min = 1\n",
    "max = 49\n",
    "\n",
    "i = 0\n",
    "for i in range(1, 8):\n",
    "    lotter.target = random.randint(min,max)\n",
    "    print(target)"
   ]
  },
  {
   "cell_type": "code",
   "execution_count": null,
   "metadata": {},
   "outputs": [
    {
     "name": "stdout",
     "output_type": "stream",
     "text": [
      "這是func5\n",
      "\n",
      "1\n",
      "本期大樂透電腦選號號碼如下:[6, 9, 11, 12, 46, 48]\n",
      "特別號:22\n",
      "2\n",
      "本期大樂透電腦選號號碼如下:[2, 6, 14, 27, 35, 38]\n",
      "特別號:30\n",
      "3\n",
      "本期大樂透電腦選號號碼如下:[1, 3, 17, 30, 33, 38]\n",
      "特別號:31\n",
      "4\n",
      "本期大樂透電腦選號號碼如下:[16, 17, 25, 37, 39, 40]\n",
      "特別號:26\n",
      "5\n"
     ]
    }
   ],
   "source": [
    "import random\n",
    "\n",
    "def Lotto_numbers():\n",
    "    lotto_numbers = set()\n",
    "\n",
    "    while len(lotto_numbers) < 7:\n",
    "        number = random.randint(1, 49)\n",
    "        lotto_numbers.add(number)\n",
    "        lotto_numbers = list(lotto_numbers)\n",
    "        special_number = lotto_numbers[-1]\n",
    "        lotto_numbers = sorted(lotto_numbers[:6])\n",
    "        return lotto_numbers, special_number\n",
    "    \n",
    "def lotto_times1(lotto_times):\n",
    "    i = 0 \n",
    "    print(f\"這是func{lotto_times}\\n\")\n",
    "    while i < lotto_times:\n",
    "        i += 1\n",
    "        if i != lotto_times:\n",
    "            print(i)\n",
    "            numbers, special = Lotto_numbers()\n",
    "            print(f'本期大樂透電腦選號號碼如下:{numbers}')\n",
    "            print(f'特別號:{special}')\n",
    "        else:\n",
    "            break\n",
    "\n",
    "def main():\n",
    "    while(True):\n",
    "        try:\n",
    "            \n",
    "            lotto_times = int(input(\"請輸入要幾組電腦選號:\"))\n",
    "            lotto_times1(lotto_times)\n",
    "            print(lotto_times)\n",
    "            break\n",
    "        except Exception:\n",
    "            print('輸入格式錯誤,請重新輸入!')\n",
    "\n",
    "if __name__ == \"__main__\":\n",
    "    main()"
   ]
  }
 ],
 "metadata": {
  "kernelspec": {
   "display_name": "base",
   "language": "python",
   "name": "python3"
  },
  "language_info": {
   "codemirror_mode": {
    "name": "ipython",
    "version": 3
   },
   "file_extension": ".py",
   "mimetype": "text/x-python",
   "name": "python",
   "nbconvert_exporter": "python",
   "pygments_lexer": "ipython3",
   "version": "3.12.2"
  }
 },
 "nbformat": 4,
 "nbformat_minor": 2
}
