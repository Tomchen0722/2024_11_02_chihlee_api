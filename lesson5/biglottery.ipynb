{
 "cells": [
  {
   "cell_type": "code",
   "execution_count": null,
   "metadata": {},
   "outputs": [],
   "source": [
    "n = 0\n",
    "for i in range(1, 11): # 11 （明確知道次數）\n",
    "    n += i\n",
    "n"
   ]
  },
  {
   "cell_type": "code",
   "execution_count": 1,
   "metadata": {},
   "outputs": [
    {
     "name": "stdout",
     "output_type": "stream",
     "text": [
      "您總共要 8 組電腦選號\n",
      "第 1 組大樂透電腦選號號碼如下:[2, 3, 10, 21, 23, 38]\n",
      "特別號:31\n",
      "第 2 組大樂透電腦選號號碼如下:[4, 12, 17, 32, 37, 45]\n",
      "特別號:26\n",
      "第 3 組大樂透電腦選號號碼如下:[21, 23, 25, 33, 37, 46]\n",
      "特別號:26\n",
      "第 4 組大樂透電腦選號號碼如下:[3, 5, 15, 16, 43, 45]\n",
      "特別號:24\n",
      "第 5 組大樂透電腦選號號碼如下:[6, 10, 13, 32, 36, 40]\n",
      "特別號:24\n",
      "第 6 組大樂透電腦選號號碼如下:[7, 15, 23, 26, 46, 49]\n",
      "特別號:29\n",
      "第 7 組大樂透電腦選號號碼如下:[5, 7, 8, 9, 15, 20]\n",
      "特別號:30\n",
      "第 8 組大樂透電腦選號號碼如下:[5, 9, 13, 37, 46, 47]\n",
      "特別號:24\n"
     ]
    }
   ],
   "source": [
    "#輸入您想要幾組電腦選號（大樂透）\n",
    "\n",
    "import random\n",
    "\n",
    "def Lotto_numbers():\n",
    "    lotto_numbers = set()\n",
    "\n",
    "    while len(lotto_numbers) < 7:\n",
    "        number = random.randint(1, 49)\n",
    "        lotto_numbers.add(number)\n",
    "    lotto_numbers = list(lotto_numbers)\n",
    "    special_number = lotto_numbers[-1]\n",
    "    lotto_numbers = sorted(lotto_numbers[:6])\n",
    "    return lotto_numbers, special_number\n",
    "def p_lotto():\n",
    "\n",
    "    t_lotto = int(input(\"請問您要幾組電腦選號？\"))\n",
    "    i = 1\n",
    "\n",
    "    print(f'您總共要 {t_lotto} 組電腦選號')\n",
    "    for index in range(t_lotto):\n",
    "        numbers, special = Lotto_numbers()\n",
    "        print(f'第 {i} 組大樂透電腦選號號碼如下:{numbers}')\n",
    "        print(f'特別號:{special}')\n",
    "        i = i+ 1\n",
    "\n",
    "def main():\n",
    "    while(True):\n",
    "        p_lotto()\n",
    "\n",
    "        answering = input(\"請問還要繼續嗎?(y,n)\")\n",
    "        if answering == 'n':\n",
    "            break\n",
    "\n",
    "if __name__ == \"__main__\":\n",
    "    main()"
   ]
  }
 ],
 "metadata": {
  "kernelspec": {
   "display_name": "base",
   "language": "python",
   "name": "python3"
  },
  "language_info": {
   "codemirror_mode": {
    "name": "ipython",
    "version": 3
   },
   "file_extension": ".py",
   "mimetype": "text/x-python",
   "name": "python",
   "nbconvert_exporter": "python",
   "pygments_lexer": "ipython3",
   "version": "3.12.2"
  }
 },
 "nbformat": 4,
 "nbformat_minor": 2
}
