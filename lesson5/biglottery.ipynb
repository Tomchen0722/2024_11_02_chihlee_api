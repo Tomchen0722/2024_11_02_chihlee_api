{
 "cells": [
  {
   "cell_type": "code",
   "execution_count": null,
   "metadata": {},
   "outputs": [],
   "source": [
    "n = 0\n",
    "for i in range(1, 11): # 11 （明確知道次數）\n",
    "    n += i\n",
    "n"
   ]
  },
  {
   "cell_type": "code",
   "execution_count": null,
   "metadata": {},
   "outputs": [
    {
     "name": "stdout",
     "output_type": "stream",
     "text": [
      "48\n",
      "2\n",
      "37\n",
      "49\n",
      "19\n",
      "23\n",
      "5\n"
     ]
    }
   ],
   "source": [
    "import random #要使用函式庫要先import\n",
    "min = 1\n",
    "max = 49\n",
    "\n",
    "i = 0\n",
    "for i in range(1, 8):\n",
    "    lotter.target = random.randint(min,max)\n",
    "    print(target)"
   ]
  }
 ],
 "metadata": {
  "kernelspec": {
   "display_name": "base",
   "language": "python",
   "name": "python3"
  },
  "language_info": {
   "codemirror_mode": {
    "name": "ipython",
    "version": 3
   },
   "file_extension": ".py",
   "mimetype": "text/x-python",
   "name": "python",
   "nbconvert_exporter": "python",
   "pygments_lexer": "ipython3",
   "version": "3.12.2"
  }
 },
 "nbformat": 4,
 "nbformat_minor": 2
}
