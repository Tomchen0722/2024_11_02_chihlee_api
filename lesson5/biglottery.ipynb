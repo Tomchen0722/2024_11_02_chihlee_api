{
 "cells": [
  {
   "cell_type": "code",
   "execution_count": null,
   "metadata": {},
   "outputs": [],
   "source": [
    "n = 0\n",
    "for i in range(1, 11): # 11 （明確知道次數）\n",
    "    n += i\n",
    "n"
   ]
  },
  {
   "cell_type": "code",
   "execution_count": 1,
   "metadata": {},
   "outputs": [],
   "source": [
    "import random\n",
    "\n",
    "def generate_lotto_numbers():\n",
    "    main_numbers = set()\n",
    "    while len(main_numbers) < 7:\n",
    "        main_numbers.add(set(random.randint(1, 49)))\n",
    "\n",
    "    main_numbers = sorted(list(main_numbers))\n",
    "    \n",
    "    special_number = random.randint(1, 49)\n",
    "    \n",
    "    while special_number in main_numbers:\n",
    "        special_number = random.randint(1, 49)\n",
    "\n",
    "    lotto_result = {\"主號碼\": main_numbers, \"特別號\": special_number}\n",
    "    return lotto_result\n",
    "\n",
    "def main():\n",
    "    lotto_result = generate_lotto_numbers()\n",
    "    print(\"大樂透選號結果:\")\n",
    "    print(\"主號碼:\", lotto_result[\"主號碼\"])\n",
    "    print(\"特別號:\", lotto_result[\"特別號\"])\n",
    "    \n",
    "if __name__ == \"__main__\":\n",
    "    main() "
   ]
  },
  {
   "cell_type": "code",
   "execution_count": 3,
   "metadata": {},
   "outputs": [
    {
     "name": "stdout",
     "output_type": "stream",
     "text": [
      "本期大樂透電腦選號號碼如下:[8, 12, 14, 15, 41, 42]\n",
      "特別號:18\n",
      "本期大樂透電腦選號號碼如下:[2, 5, 18, 35, 43, 49]\n",
      "特別號:22\n",
      "本期大樂透電腦選號號碼如下:[1, 4, 5, 6, 17, 40]\n",
      "特別號:20\n"
     ]
    }
   ],
   "source": [
    "import random\n",
    "\n",
    "def Lotto_numbers():\n",
    "    lotto_numbers = set()\n",
    "\n",
    "    while len(lotto_numbers) < 7:\n",
    "        number = random.randint(1, 49)\n",
    "        lotto_numbers.add(number)\n",
    "    lotto_numbers = list(lotto_numbers)\n",
    "    special_number = lotto_numbers[-1]\n",
    "    lotto_numbers = sorted(lotto_numbers[:6])\n",
    "    return lotto_numbers, special_number\n",
    "\n",
    "def main():\n",
    "    while True:\n",
    "        try:\n",
    "            lotto_time = int(input(\"請輸入要幾組電腦選號\"))\n",
    "    \n",
    "            break\n",
    "        except Exception:\n",
    "            print('輸入格式錯誤,請重新輸入!')\n",
    "    while True:\n",
    "      numbers, special = Lotto_numbers()\n",
    "      print(f'本期大樂透電腦選號號碼如下:{numbers}')\n",
    "      print(f'特別號:{special}')\n",
    "      play_again = input(\"還要繼續嗎?(y,n)\")\n",
    "      if play_again == \"n\":\n",
    "        break\n",
    "if __name__ == \"__main__\":\n",
    "    main()"
   ]
  },
  {
   "cell_type": "code",
   "execution_count": 2,
   "metadata": {},
   "outputs": [
    {
     "name": "stdout",
     "output_type": "stream",
     "text": [
      "您總共要 5 組電腦選號\n"
     ]
    },
    {
     "ename": "AttributeError",
     "evalue": "'list' object has no attribute 'add'",
     "output_type": "error",
     "traceback": [
      "\u001b[0;31m---------------------------------------------------------------------------\u001b[0m",
      "\u001b[0;31mAttributeError\u001b[0m                            Traceback (most recent call last)",
      "Cell \u001b[0;32mIn[2], line 34\u001b[0m\n\u001b[1;32m     31\u001b[0m             \u001b[38;5;28;01mbreak\u001b[39;00m\n\u001b[1;32m     33\u001b[0m \u001b[38;5;28;01mif\u001b[39;00m \u001b[38;5;18m__name__\u001b[39m \u001b[38;5;241m==\u001b[39m \u001b[38;5;124m\"\u001b[39m\u001b[38;5;124m__main__\u001b[39m\u001b[38;5;124m\"\u001b[39m:\n\u001b[0;32m---> 34\u001b[0m     \u001b[43mmain\u001b[49m\u001b[43m(\u001b[49m\u001b[43m)\u001b[49m\n",
      "Cell \u001b[0;32mIn[2], line 27\u001b[0m, in \u001b[0;36mmain\u001b[0;34m()\u001b[0m\n\u001b[1;32m     25\u001b[0m \u001b[38;5;28;01mdef\u001b[39;00m \u001b[38;5;21mmain\u001b[39m():\n\u001b[1;32m     26\u001b[0m     \u001b[38;5;28;01mwhile\u001b[39;00m(\u001b[38;5;28;01mTrue\u001b[39;00m):\n\u001b[0;32m---> 27\u001b[0m         \u001b[43mp_lotto\u001b[49m\u001b[43m(\u001b[49m\u001b[43m)\u001b[49m\n\u001b[1;32m     29\u001b[0m         answering \u001b[38;5;241m=\u001b[39m \u001b[38;5;28minput\u001b[39m(\u001b[38;5;124m\"\u001b[39m\u001b[38;5;124m請問還要繼續嗎?(y,n)\u001b[39m\u001b[38;5;124m\"\u001b[39m)\n\u001b[1;32m     30\u001b[0m         \u001b[38;5;28;01mif\u001b[39;00m answering \u001b[38;5;241m==\u001b[39m \u001b[38;5;124m'\u001b[39m\u001b[38;5;124mn\u001b[39m\u001b[38;5;124m'\u001b[39m:\n",
      "Cell \u001b[0;32mIn[2], line 20\u001b[0m, in \u001b[0;36mp_lotto\u001b[0;34m()\u001b[0m\n\u001b[1;32m     18\u001b[0m \u001b[38;5;28mprint\u001b[39m(\u001b[38;5;124mf\u001b[39m\u001b[38;5;124m'\u001b[39m\u001b[38;5;124m您總共要 \u001b[39m\u001b[38;5;132;01m{\u001b[39;00mt_lotto\u001b[38;5;132;01m}\u001b[39;00m\u001b[38;5;124m 組電腦選號\u001b[39m\u001b[38;5;124m'\u001b[39m)\n\u001b[1;32m     19\u001b[0m \u001b[38;5;28;01mfor\u001b[39;00m index \u001b[38;5;129;01min\u001b[39;00m \u001b[38;5;28mrange\u001b[39m(t_lotto):\n\u001b[0;32m---> 20\u001b[0m     numbers, special \u001b[38;5;241m=\u001b[39m \u001b[43mLotto_numbers\u001b[49m\u001b[43m(\u001b[49m\u001b[43m)\u001b[49m\n\u001b[1;32m     21\u001b[0m     \u001b[38;5;28mprint\u001b[39m(\u001b[38;5;124mf\u001b[39m\u001b[38;5;124m'\u001b[39m\u001b[38;5;124m第 \u001b[39m\u001b[38;5;132;01m{\u001b[39;00mi\u001b[38;5;132;01m}\u001b[39;00m\u001b[38;5;124m 組大樂透電腦選號號碼如下:\u001b[39m\u001b[38;5;132;01m{\u001b[39;00mnumbers\u001b[38;5;132;01m}\u001b[39;00m\u001b[38;5;124m'\u001b[39m)\n\u001b[1;32m     22\u001b[0m     \u001b[38;5;28mprint\u001b[39m(\u001b[38;5;124mf\u001b[39m\u001b[38;5;124m'\u001b[39m\u001b[38;5;124m特別號:\u001b[39m\u001b[38;5;132;01m{\u001b[39;00mspecial\u001b[38;5;132;01m}\u001b[39;00m\u001b[38;5;124m'\u001b[39m)\n",
      "Cell \u001b[0;32mIn[2], line 8\u001b[0m, in \u001b[0;36mLotto_numbers\u001b[0;34m()\u001b[0m\n\u001b[1;32m      6\u001b[0m \u001b[38;5;28;01mwhile\u001b[39;00m \u001b[38;5;28mlen\u001b[39m(lotto_numbers) \u001b[38;5;241m<\u001b[39m \u001b[38;5;241m7\u001b[39m:\n\u001b[1;32m      7\u001b[0m     number \u001b[38;5;241m=\u001b[39m random\u001b[38;5;241m.\u001b[39mrandint(\u001b[38;5;241m1\u001b[39m, \u001b[38;5;241m49\u001b[39m)\n\u001b[0;32m----> 8\u001b[0m     \u001b[43mlotto_numbers\u001b[49m\u001b[38;5;241;43m.\u001b[39;49m\u001b[43madd\u001b[49m(number)\n\u001b[1;32m      9\u001b[0m     lotto_numbers \u001b[38;5;241m=\u001b[39m \u001b[38;5;28mlist\u001b[39m(lotto_numbers)\n\u001b[1;32m     10\u001b[0m     special_number \u001b[38;5;241m=\u001b[39m lotto_numbers[\u001b[38;5;241m-\u001b[39m\u001b[38;5;241m1\u001b[39m]\n",
      "\u001b[0;31mAttributeError\u001b[0m: 'list' object has no attribute 'add'"
     ]
    }
   ],
   "source": [
    "import random\n",
    "\n",
    "def Lotto_numbers():\n",
    "    lotto_numbers = set()\n",
    "\n",
    "    while len(lotto_numbers) < 7:\n",
    "        number = random.randint(1, 49)\n",
    "        lotto_numbers.add(number)\n",
    "        lotto_numbers = list(lotto_numbers)\n",
    "        special_number = lotto_numbers[-1]\n",
    "        lotto_numbers = sorted(lotto_numbers[:6])\n",
    "    return lotto_numbers, special_number\n",
    "def p_lotto():\n",
    "\n",
    "    t_lotto = int(input(\"請問您要幾組電腦選號？\"))\n",
    "    i = 1\n",
    "\n",
    "    print(f'您總共要 {t_lotto} 組電腦選號')\n",
    "    for index in range(t_lotto):\n",
    "        numbers, special = Lotto_numbers()\n",
    "        print(f'第 {i} 組大樂透電腦選號號碼如下:{numbers}')\n",
    "        print(f'特別號:{special}')\n",
    "        i = i+ 1\n",
    "\n",
    "def main():\n",
    "    while(True):\n",
    "        p_lotto()\n",
    "\n",
    "        answering = input(\"請問還要繼續嗎?(y,n)\")\n",
    "        if answering == 'n':\n",
    "            break\n",
    "\n",
    "if __name__ == \"__main__\":\n",
    "    main()"
   ]
  }
 ],
 "metadata": {
  "kernelspec": {
   "display_name": "base",
   "language": "python",
   "name": "python3"
  },
  "language_info": {
   "codemirror_mode": {
    "name": "ipython",
    "version": 3
   },
   "file_extension": ".py",
   "mimetype": "text/x-python",
   "name": "python",
   "nbconvert_exporter": "python",
   "pygments_lexer": "ipython3",
   "version": "3.12.2"
  }
 },
 "nbformat": 4,
 "nbformat_minor": 2
}
